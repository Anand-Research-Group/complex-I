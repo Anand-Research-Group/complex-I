{
 "cells": [
  {
   "cell_type": "code",
   "execution_count": 1,
   "id": "31d7c206-1cab-40da-8ebc-9cebc91a5099",
   "metadata": {},
   "outputs": [],
   "source": [
    "import os\n",
    "\n",
    "from tqdm import tqdm\n",
    "from Bio import SeqIO\n",
    "from Bio.SeqRecord import SeqRecord\n",
    "import pandas as pd\n",
    "\n",
    "import warnings\n",
    "warnings.filterwarnings('ignore')  # Ignore all warnings\n",
    "\n",
    "from pathlib import Path\n",
    "from config import HMM_RESULTS_DIR, PROTEOMES_DIR"
   ]
  },
  {
   "cell_type": "code",
   "execution_count": 3,
   "id": "1b9abbef-a090-4aec-b171-36992616cec6",
   "metadata": {},
   "outputs": [],
   "source": [
    "hmmer = pd.read_csv(HMM_ANALYSIS_DIR / \"results_unfil.csv\")"
   ]
  },
  {
   "cell_type": "code",
   "execution_count": 4,
   "id": "a81fa3f7",
   "metadata": {},
   "outputs": [
    {
     "name": "stdout",
     "output_type": "stream",
     "text": [
      "<class 'pandas.core.frame.DataFrame'>\n",
      "RangeIndex: 1078643 entries, 0 to 1078642\n",
      "Data columns (total 19 columns):\n",
      " #   Column              Non-Null Count    Dtype  \n",
      "---  ------              --------------    -----  \n",
      " 0   Accession           1078643 non-null  object \n",
      " 1   Replicon            1078643 non-null  object \n",
      " 2   GenomeFile          1078643 non-null  object \n",
      " 3   SequenceLength(Mb)  1078643 non-null  float64\n",
      " 4   ProteomeFile        1078643 non-null  object \n",
      " 5   ProteinAccession    1078643 non-null  object \n",
      " 6   evalue              1078643 non-null  float64\n",
      " 7   BitScore            1078643 non-null  float64\n",
      " 8   Bias                1078643 non-null  float64\n",
      " 9   SequenceDesc        1078643 non-null  object \n",
      " 10  Subunit             1078643 non-null  object \n",
      " 11  SeqsClustThreshold  1078643 non-null  int64  \n",
      " 12  HMMParameter        1078643 non-null  object \n",
      " 13  Start               1078643 non-null  int64  \n",
      " 14  End                 1078643 non-null  int64  \n",
      " 15  log10evalue         1078643 non-null  float64\n",
      " 16  EstProtLength       1078643 non-null  int64  \n",
      " 17  Strand              1078643 non-null  int64  \n",
      " 18  Cluster             1078643 non-null  int64  \n",
      "dtypes: float64(5), int64(6), object(8)\n",
      "memory usage: 156.4+ MB\n"
     ]
    }
   ],
   "source": [
    "hmmer.info()"
   ]
  },
  {
   "cell_type": "code",
   "execution_count": 5,
   "id": "0d226be2",
   "metadata": {},
   "outputs": [
    {
     "data": {
      "text/plain": [
       "array(['NuoF', 'NuoI', 'NuoG', 'NuoA', 'NuoB', 'NuoC', 'NuoD', 'NuoE',\n",
       "       'NuoH', 'NuoJ', 'NuoK', 'NuoL', 'NuoM', 'NuoN', 'NuoCD', 'NuoBCD'],\n",
       "      dtype=object)"
      ]
     },
     "execution_count": 5,
     "metadata": {},
     "output_type": "execute_result"
    }
   ],
   "source": [
    "hmmer['Subunit'].unique()"
   ]
  },
  {
   "cell_type": "code",
   "execution_count": 6,
   "id": "4680661c-5053-4fa4-9d68-590ba5b329dc",
   "metadata": {},
   "outputs": [
    {
     "name": "stderr",
     "output_type": "stream",
     "text": [
      "Processing NuoA: 100%|██████████████████████████████████████████████████████████████████████████| 31048/31048 [03:08<00:00, 164.91it/s]\n",
      "Processing NuoB: 100%|██████████████████████████████████████████████████████████████████████████| 31669/31669 [03:21<00:00, 157.03it/s]\n",
      "Processing NuoBCD: 100%|██████████████████████████████████████████████████████████████████████████████| 50/50 [00:00<00:00, 165.07it/s]\n",
      "Processing NuoC: 100%|██████████████████████████████████████████████████████████████████████████| 14621/14621 [01:27<00:00, 167.11it/s]\n",
      "Processing NuoCD: 100%|█████████████████████████████████████████████████████████████████████████| 16881/16881 [01:44<00:00, 161.57it/s]\n",
      "Processing NuoD: 100%|██████████████████████████████████████████████████████████████████████████| 23987/23987 [02:46<00:00, 143.66it/s]\n",
      "Processing NuoE: 100%|██████████████████████████████████████████████████████████████████████████| 30016/30016 [03:07<00:00, 160.29it/s]\n",
      "Processing NuoF: 100%|██████████████████████████████████████████████████████████████████████████| 33122/33122 [03:46<00:00, 145.95it/s]\n",
      "Processing NuoG: 100%|██████████████████████████████████████████████████████████████████████████| 40320/40320 [06:14<00:00, 107.77it/s]\n",
      "Processing NuoH: 100%|██████████████████████████████████████████████████████████████████████████| 31576/31576 [03:25<00:00, 153.40it/s]\n",
      "Processing NuoI: 100%|██████████████████████████████████████████████████████████████████████████| 38772/38772 [05:20<00:00, 120.91it/s]\n",
      "Processing NuoJ: 100%|██████████████████████████████████████████████████████████████████████████| 31137/31137 [03:07<00:00, 166.04it/s]\n",
      "Processing NuoK: 100%|██████████████████████████████████████████████████████████████████████████| 31357/31357 [03:07<00:00, 167.06it/s]\n",
      "Processing NuoL: 100%|██████████████████████████████████████████████████████████████████████████| 37879/37879 [04:09<00:00, 152.04it/s]\n",
      "Processing NuoM: 100%|██████████████████████████████████████████████████████████████████████████| 36982/36982 [04:01<00:00, 153.41it/s]\n",
      "Processing NuoN: 100%|██████████████████████████████████████████████████████████████████████████| 34629/34629 [03:27<00:00, 166.61it/s]\n"
     ]
    }
   ],
   "source": [
    "# Set output directory\n",
    "output_dir = HMM_ANALYSIS_DIR / \"hits_sequences\"\n",
    "output_dir.mkdir(parents=True, exist_ok=True)\n",
    "\n",
    "for subunit in sorted(hmmer['Subunit'].unique()):\n",
    "    selected_hmmer = hmmer[hmmer['Subunit'] == subunit]\n",
    "    \n",
    "    # File to store the combined sequences\n",
    "    output_fasta = output_dir / f\"{subunit}_unfiltered_hits.fasta\"\n",
    "    \n",
    "    # Create a mapping of proteome files to protein accessions\n",
    "    proteome_accessions = selected_hmmer.groupby('ProteomeFile')['ProteinAccession'].unique().to_dict()\n",
    "    \n",
    "    # Open the output file once\n",
    "    with open(output_fasta, 'w') as output_handle:\n",
    "        # Process each proteome file only once\n",
    "        for proteome_file, accessions in tqdm(proteome_accessions.items(), desc=f\"Processing {subunit}\"):\n",
    "            proteome_file_fp = os.path.join(PROTEOMES_DIR, proteome_file)\n",
    "            try:\n",
    "                # Parse the proteome file and extract sequences for needed accessions\n",
    "                needed_accessions = set(accessions)\n",
    "                sequences_found = 0\n",
    "                \n",
    "                for record in SeqIO.parse(proteome_file_fp, 'fasta'):\n",
    "                    if record.id in needed_accessions:\n",
    "                        # Clean the sequence\n",
    "                        protein_sequence = str(record.seq).replace('*', '')\n",
    "                        \n",
    "                        # Create a SeqRecord with the cleaned sequence\n",
    "                        seq_record = SeqRecord(\n",
    "                            seq=protein_sequence,\n",
    "                            id=record.id,\n",
    "                            description=record.description\n",
    "                        )\n",
    "                        \n",
    "                        # Write the SeqRecord to the output FASTA file\n",
    "                        SeqIO.write(seq_record, output_handle, 'fasta')\n",
    "                        \n",
    "                        sequences_found += 1\n",
    "                        needed_accessions.remove(record.id)\n",
    "                        \n",
    "                        # Break if all needed accessions have been found\n",
    "                        if not needed_accessions:\n",
    "                            break\n",
    "                if sequences_found == 0:\n",
    "                    print(f\"No sequences found in {proteome_file_fp} for the specified accessions.\")\n",
    "            except FileNotFoundError:\n",
    "                print(f\"File not found: {proteome_file_fp}\")\n",
    "            except Exception as e:\n",
    "                print(f\"An error occurred with file {proteome_file_fp}: {e}\")"
   ]
  }
 ],
 "metadata": {
  "kernelspec": {
   "display_name": "Python 3 (ipykernel)",
   "language": "python",
   "name": "python3"
  },
  "language_info": {
   "codemirror_mode": {
    "name": "ipython",
    "version": 3
   },
   "file_extension": ".py",
   "mimetype": "text/x-python",
   "name": "python",
   "nbconvert_exporter": "python",
   "pygments_lexer": "ipython3",
   "version": "3.12.2"
  }
 },
 "nbformat": 4,
 "nbformat_minor": 5
}
