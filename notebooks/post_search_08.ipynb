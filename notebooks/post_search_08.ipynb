{
 "cells": [
  {
   "cell_type": "code",
   "execution_count": 1,
   "id": "40caa115-197b-4c25-b9ab-86d24e3f080e",
   "metadata": {},
   "outputs": [],
   "source": [
    "import os\n",
    "import pandas as pd\n",
    "from Bio import SeqIO\n",
    "from tqdm import tqdm\n",
    "import psa\n",
    "from pathlib import Path\n",
    "from config import HMM_RESULTS_DIR\n",
    "\n",
    "def read_fasta_sequence(filepath):\n",
    "    \"\"\"Reads a sequence from a FASTA file.\"\"\"\n",
    "    record = SeqIO.read(filepath, \"fasta\")\n",
    "    return str(record.seq)  # Convert the sequence to string and return\n",
    "\n",
    "def align_and_calculate_scores(reference_seq, query_sequence):\n",
    "    \"\"\"Aligns the reference sequence with another sequence and calculates identity, similarity, and query coverage.\"\"\"\n",
    "    aln = psa.water(moltype='prot', qseq=reference_seq, sseq=str(query_sequence))  # Ensure sequence is passed as string\n",
    "    # Extract relevant metrics\n",
    "    identity = aln.pidentity\n",
    "    similarity = aln.psimilarity\n",
    "    query_coverage = aln.query_coverage()\n",
    "    \n",
    "    return identity, similarity, query_coverage\n",
    "\n",
    "def read_fasta_sequence(filepath):\n",
    "    \"\"\"Reads a sequence from a FASTA file.\"\"\"\n",
    "    try:\n",
    "        record = SeqIO.read(filepath, \"fasta\")\n",
    "        return str(record.seq)\n",
    "    except FileNotFoundError:\n",
    "        print(f\"Reference file {filepath} not found.\")\n",
    "        return None"
   ]
  },
  {
   "cell_type": "code",
   "execution_count": 3,
   "id": "e29c439e",
   "metadata": {},
   "outputs": [],
   "source": [
    "hitssequences = HMM_ANALYSIS_DIR / \"hits_sequences\""
   ]
  },
  {
   "cell_type": "code",
   "execution_count": 4,
   "id": "b93803c2",
   "metadata": {},
   "outputs": [],
   "source": [
    "hitssequences_lists = [seq for seq in os.listdir(hitssequences)]"
   ]
  },
  {
   "cell_type": "code",
   "execution_count": 5,
   "id": "3658ebe3",
   "metadata": {},
   "outputs": [
    {
     "data": {
      "text/plain": [
       "['NuoB_unfiltered_hits.fasta']"
      ]
     },
     "execution_count": 5,
     "metadata": {},
     "output_type": "execute_result"
    }
   ],
   "source": [
    "hitssequences_lists"
   ]
  },
  {
   "cell_type": "code",
   "execution_count": 6,
   "id": "874ae8ab-58ca-4676-a8ac-7e5ca63fb3ae",
   "metadata": {},
   "outputs": [
    {
     "name": "stderr",
     "output_type": "stream",
     "text": [
      "Alignment on NuoB hits: 52851it [11:02, 79.80it/s]\n"
     ]
    }
   ],
   "source": [
    "output_dir = output_dir = HMM_ANALYSIS_DIR / \"pairwise_seqs_align\"\n",
    "output_dir.mkdir(parents=True, exist_ok=True)\n",
    "\n",
    "# Iterate through each sequence file in the Hits-Sequences directory\n",
    "for sequence in sorted(hitssequences_lists):\n",
    "    if sequence.endswith('.fasta'):\n",
    "        reference_subunit = sequence.split('_')[0]\n",
    "\n",
    "        # Define file paths\n",
    "        query_fasta = os.path.join(hitssequences, sequence)\n",
    "        reference_fasta = os.path.join(pairwise_seqs_align, f\"Reference_Proteins/{reference_subunit}/{reference_subunit}_protein.fasta\")\n",
    "        \n",
    "        # Read the reference sequence\n",
    "        reference_sequence = read_fasta_sequence(reference_fasta)\n",
    "        \n",
    "        if reference_sequence is None:\n",
    "            print(f\"Skipping {reference_subunit} due to missing reference sequence.\")\n",
    "            continue\n",
    "        \n",
    "        # Initialize a list to store the results\n",
    "        results = []\n",
    "        \n",
    "        # Iterate through query FASTA file\n",
    "        for record in tqdm(SeqIO.parse(query_fasta, 'fasta'), desc=f\"Alignment on {reference_subunit} hits\"):\n",
    "            # Retrieve the query sequence\n",
    "            query_sequence = record.seq\n",
    "            \n",
    "            # Calculate identity, similarity, and query coverage\n",
    "            try:\n",
    "                identity, similarity, query_coverage = align_and_calculate_scores(reference_sequence, query_sequence)\n",
    "            except Exception as e:\n",
    "                print(f\"Error in alignment for {record.id}: {e}\")\n",
    "                continue\n",
    "            \n",
    "            # Append the results as a dictionary\n",
    "            results.append({\n",
    "                'ReferenceSubunit': reference_subunit,\n",
    "                'ProteinAccession': record.id,  # Accession ID from the query record\n",
    "                'Identity': identity,\n",
    "                'Similarity': similarity,\n",
    "                'QueryCoverage': query_coverage\n",
    "            })\n",
    "        \n",
    "        # Convert the results into a pandas DataFrame\n",
    "        hmm_alignment_results = pd.DataFrame(results)\n",
    "        \n",
    "        # Save the DataFrame as a CSV file\n",
    "        output_csv = os.path.join(output_dir, f\"{reference_subunit}_alignment.csv\")\n",
    "        hmm_alignment_results.to_csv(output_csv, index=False)\n",
    "\n",
    "        send_pushover_notification(f\"Alignment results for {reference_subunit} saved to {output_csv}\", user_key, api_token) \n",
    "       "
   ]
  }
 ],
 "metadata": {
  "kernelspec": {
   "display_name": "Python 3 (ipykernel)",
   "language": "python",
   "name": "python3"
  },
  "language_info": {
   "codemirror_mode": {
    "name": "ipython",
    "version": 3
   },
   "file_extension": ".py",
   "mimetype": "text/x-python",
   "name": "python",
   "nbconvert_exporter": "python",
   "pygments_lexer": "ipython3",
   "version": "3.12.2"
  }
 },
 "nbformat": 4,
 "nbformat_minor": 5
}
