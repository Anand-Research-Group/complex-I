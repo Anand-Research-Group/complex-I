{
 "cells": [
  {
   "cell_type": "markdown",
   "id": "4b44d04d-113f-43eb-b09e-ffb0c8e352bb",
   "metadata": {},
   "source": [
    "# 2.1. Analysis: Analyzing Species Identified by NCBI CDS and NuoHMMER Across Complex I Subunits\n",
    "\n",
    "This notebook presents an analysis comparing the number of species identified by two methods, **NCBI CDS** and **NuoHMMER**, across various **Complex I subunits**. The goal is to demonstrate the enhanced performance of the NuoHMMER method, which was developed to identify additional species not found by the NCBI CDS method.\n",
    "\n",
    "#### **Key Steps in the Notebook:**\n",
    "\n",
    "###### 1. **Data Preprocessing**\n",
    "- **Loading data**: The notebook starts by loading genomic and species information from CSV files, including the results from both the NuoHMMER and NCBI CDS searches.\n",
    "- **Merging datasets**: Genomic and species metadata are merged to create a unified dataset that combines both methods.\n",
    "\n",
    "###### 2. **Classification of Complex I Subunit Variants**\n",
    "- **Classifying species into Complex I subunit variants**: The `classify_complex_types` function assigns each species to a variant of Complex I (e.g., Nuo12, Nuo13, Nuo14, etc.), depending on the presence or absence of specific subunits.\n",
    "- This classification helps determine the complexity of each species' Complex I assembly.\n",
    "\n",
    "###### 3. **Boolean and Summation Tables**\n",
    "- The `summarize_nuo_bool` function processes the boolean presence/absence tables for species (both for NuoHMMER and NCBI CDS). This step summarizes how many subunits are present for each species and determines whether the subunit was found by either method.\n",
    "\n",
    "###### 4. **Species Count Comparison**\n",
    "- **Unique species identification**: For each subunit, the number of species identified by NCBI CDS and NuoHMMER is counted. This is done using melt and grouping operations on the boolean tables to calculate unique species counts.\n",
    "- The number of species uniquely identified by NuoHMMER (beyond NCBI CDS) is also calculated to showcase its extended coverage.\n",
    "\n",
    "###### 5. **Stacked Bar Plot Visualization**\n",
    "- A **stacked bar plot** is generated to visually compare the number of species identified by NCBI CDS and NuoHMMER across different Complex I subunits.\n",
    "- NuoHMMER results are stacked on top of the NCBI CDS bars to highlight the additional species found by NuoHMMER.\n",
    "- The plot is customized with distinct colors for each method, a legend at the bottom, and annotations for each subunit.\n",
    "\n",
    "###### 6. **Custom Legend and Aesthetic Adjustments**\n",
    "- The plot includes a custom legend that shows the colors corresponding to each method, with specific color schemes for NuoHMMER and NCBI CDS.\n",
    "- A well-formatted title and axis labels are used to clearly communicate the purpose of the visualization.\n",
    "\n",
    "#### **Key Outputs**\n",
    "- **Stacked Bar Plot**: The primary output is a visualization that compares the species found by both methods for each subunit of Complex I. The plot highlights NuoHMMER’s superiority by visually stacking the number of additional species it identifies on top of NCBI CDS results.\n",
    "\n",
    "#### **Purpose of the Analysis**\n",
    "The analysis is designed to validate and showcase the efficacy of NuoHMMER in identifying Complex I subunits in species. This method not only matches the results of the NCBI CDS method but also identifies more species, thus providing a more comprehensive analysis of subunit presence across species."
   ]
  },
  {
   "cell_type": "code",
   "execution_count": 1,
   "id": "5d58972a-3576-48a4-a0d8-0f0de56a84dd",
   "metadata": {},
   "outputs": [],
   "source": [
    "import pandas as pd\n",
    "import numpy as np\n",
    "import matplotlib.pyplot as plt\n",
    "import seaborn as sns\n",
    "import warnings\n",
    "\n",
    "warnings.filterwarnings('ignore')"
   ]
  },
  {
   "cell_type": "markdown",
   "id": "6ae9e8f5-2f55-43d0-a27d-172e753a9cdc",
   "metadata": {},
   "source": [
    "## Helper Code"
   ]
  },
  {
   "cell_type": "code",
   "execution_count": 2,
   "id": "7c328f75-380b-48ea-9dd8-b94199e10b77",
   "metadata": {},
   "outputs": [],
   "source": [
    "def classify_complex_types(bool_table, combinations, all_subunits):\n",
    "    # Initialize a new column 'Variation' with the default value '<Nuo13'\n",
    "    bool_table['Variation'] = 'Nuo-Partial'\n",
    "    \n",
    "    # Iterate over each combination name and its corresponding true subunits\n",
    "    for name, true_subunits in (combinations.items()):\n",
    "        # Identify subunits that are not in the true subunits list (false subunits)\n",
    "        false_subunits = [subunit for subunit in all_subunits if subunit not in true_subunits]\n",
    "        \n",
    "        # Create a mask to identify rows where all true subunits are present\n",
    "        # and none of the false subunits are present\n",
    "        match_mask = (bool_table[true_subunits].all(axis=1)) & (~bool_table[false_subunits].any(axis=1))\n",
    "        \n",
    "        # Update the 'Variation' column for rows that match the mask with the current name\n",
    "        bool_table.loc[match_mask, 'Variation'] = name\n",
    "    \n",
    "    # Return the updated DataFrame with the classified complex types\n",
    "    return bool_table\n",
    "\n",
    "def summarize_nuo_bool(nuo_bool, relevant_columns):\n",
    "    # Extract the relevant columns for summing\n",
    "    # relevant_columns = nuo_bool.iloc[:, 16:-1]\n",
    "\n",
    "    # Group by 'Species' and sum the Species for each group\n",
    "    grouped_sum = relevant_columns.groupby(nuo_bool['Species']).sum()\n",
    "\n",
    "    # Apply the condition (>= 1) across all columns\n",
    "    ge_one = grouped_sum.ge(1).reset_index()\n",
    "\n",
    "    # Create the DataFrame with the appropriate column names\n",
    "    summed_nuo_bool = pd.DataFrame(ge_one, columns=['Species'] + relevant_columns.columns.tolist())\n",
    "    \n",
    "    return summed_nuo_bool\n",
    "    \n",
    "combinations = {\n",
    "    'Nuo14': ['NuoA', 'NuoB', 'NuoC', 'NuoD', 'NuoE', 'NuoF', 'NuoG', 'NuoH', 'NuoI', 'NuoJ', 'NuoK', 'NuoL', 'NuoM', 'NuoN'],\n",
    "    'Nuo13': ['NuoA', 'NuoB', 'NuoCD', 'NuoE', 'NuoF', 'NuoG', 'NuoH', 'NuoI', 'NuoJ', 'NuoK', 'NuoL', 'NuoM', 'NuoN'],\n",
    "    'Nuo12': ['NuoA', 'NuoBCD', 'NuoE', 'NuoF', 'NuoG', 'NuoH', 'NuoI', 'NuoJ', 'NuoK', 'NuoL', 'NuoM', 'NuoN'],\n",
    "    # 'Nuo14-EF': ['NuoA', 'NuoB', 'NuoC', 'NuoD', 'NuoG', 'NuoH', 'NuoI', 'NuoJ', 'NuoK', 'NuoL', 'NuoM', 'NuoN'],\n",
    "    # 'Nuo13-EF': ['NuoA', 'NuoB', 'NuoCD', 'NuoG', 'NuoH', 'NuoI', 'NuoJ', 'NuoK', 'NuoL', 'NuoM', 'NuoN'],\n",
    "    # 'Nuo14-EFG': ['NuoA', 'NuoB', 'NuoC', 'NuoD', 'NuoH', 'NuoI', 'NuoJ', 'NuoK', 'NuoL', 'NuoM', 'NuoN'],\n",
    "    # 'Nuo13-EFG': ['NuoA', 'NuoB', 'NuoCD', 'NuoH', 'NuoI', 'NuoJ', 'NuoK', 'NuoL', 'NuoM', 'NuoN']\n",
    "}\n",
    "\n",
    "all_subunits = ['NuoA', 'NuoB', 'NuoBCD', 'NuoC', 'NuoCD', 'NuoD', 'NuoE', 'NuoF', 'NuoG', 'NuoH', 'NuoI', 'NuoJ', 'NuoK', 'NuoL', 'NuoM', 'NuoN']\n",
    "\n",
    "colors = [\"#a5b1c2\", \"#f7b731\", \"#20bf6b\", \"#45aaf2\", \"#3867d6\", \"#a55eea\", \"#0fb9b1\", '#4b6584']\n",
    "labels = ['Nuo-Partial', 'Nuo13', 'Nuo14', 'Nuo14-EFG', 'Nuo13-EFG', 'Nuo14-EF', 'Nuo12', 'Existing Annotation']\n",
    "\n",
    "complex_colors = dict(zip(labels, colors))\n",
    "\n",
    "subunits_colors = {\n",
    "    'NuoE': '#eb3b5a', 'NuoF': '#eb3b5a', 'NuoG': '#eb3b5a',\n",
    "    'NuoB': '#f7b731', 'NuoBCD': '#f7b731', 'NuoC': '#f7b731',\n",
    "    'NuoCD': '#f7b731', 'NuoD': '#f7b731', 'NuoI': '#f7b731',\n",
    "    'NuoA': '#4b7bec', 'NuoH': '#4b7bec', 'NuoJ': '#4b7bec',\n",
    "    'NuoK': '#4b7bec', 'NuoL': '#4b7bec', 'NuoM': '#4b7bec',\n",
    "    'NuoN': '#4b7bec'\n",
    "}\n",
    "\n",
    "ncbi_cds_colors = {\n",
    "    'NuoA': '#74b9ff', 'NuoB': '#ffeaa7', 'NuoBCD': '#ffeaa7',\n",
    "    'NuoC': '#ffeaa7', 'NuoCD': '#ffeaa7', 'NuoD': '#ffeaa7',\n",
    "    'NuoE': '#ff7675', 'NuoF': '#ff7675', 'NuoG': '#ff7675',\n",
    "    'NuoH': '#74b9ff', 'NuoI': '#ffeaa7', 'NuoJ': '#74b9ff',\n",
    "    'NuoK': '#74b9ff', 'NuoL': '#74b9ff', 'NuoM': '#74b9ff',\n",
    "    'NuoN': '#74b9ff'\n",
    "}\n",
    "\n",
    "subunits_order = [\n",
    "    'NuoE', 'NuoF', 'NuoG', 'NuoB', 'NuoBCD', 'NuoC', 'NuoCD', \n",
    "    'NuoD', 'NuoI', 'NuoA', 'NuoH', 'NuoJ', 'NuoK', 'NuoL', \n",
    "    'NuoM', 'NuoN'\n",
    "]"
   ]
  },
  {
   "cell_type": "markdown",
   "id": "919be90f-4773-488b-80a6-43381ba17bc2",
   "metadata": {},
   "source": [
    "## Dataset"
   ]
  },
  {
   "cell_type": "code",
   "execution_count": 3,
   "id": "27b8ee7a-7c22-420d-9ead-2649d71e67cf",
   "metadata": {},
   "outputs": [],
   "source": [
    "genomes_dataset = pd.read_csv('/Users/akshayonly/Work/04-Complex-I/Data/02-Genomic-Records-and-Metadata/02-Genome-Metadata/genomes_dataset.csv')\n",
    "\n",
    "genomes_metadata = pd.read_csv('/Users/akshayonly/Work/04-Complex-I/Data/02-Genomic-Records-and-Metadata/02-Genome-Metadata/genomes_metadata.csv')\n",
    "\n",
    "genomes_info = pd.merge(genomes_metadata[['Accession', 'GenomeFile', 'Replicon']], genomes_dataset[['Organism', 'Species', 'GenomeFile']])\n",
    "\n",
    "result = pd.read_csv(\"/Users/akshayonly/Work/04-Complex-I/Data/04-HMM-Analysis-Data/02-HMM-Subunits-Search-Processed/nuohmmer_filtered.csv\")\n",
    "\n",
    "nuo_bool = pd.read_csv('/Users/akshayonly/Work/04-Complex-I/Data/04-HMM-Analysis-Data/04-HMM-Subunits-Tables/nuo_bool_filtered.csv')\n",
    "nuo_count = pd.read_csv('/Users/akshayonly/Work/04-Complex-I/Data/04-HMM-Analysis-Data/04-HMM-Subunits-Tables/nuo_count_filtered.csv')\n",
    "\n",
    "cds = pd.read_csv('/Users/akshayonly/Work/04-Complex-I/Data/03-CDS-and-Subunits-Data/01-CDS-Subunits-Metadata/nuo_cds_prescreened.csv')"
   ]
  },
  {
   "cell_type": "code",
   "execution_count": 4,
   "id": "48a0a2e4-4d81-4065-a5f5-8fb69a0e3184",
   "metadata": {},
   "outputs": [],
   "source": [
    "# Assuming 'cds' is your DataFrame and 'all_subunits' is the list of all possible subunits\n",
    "subunit_counts = cds.groupby(['Accession', 'Subunit']).size().unstack(fill_value=0)\n",
    "\n",
    "# Ensure all_subunits are columns in subunit_counts\n",
    "for subunit in all_subunits:\n",
    "    if subunit not in subunit_counts.columns:\n",
    "        subunit_counts[subunit] = 0\n",
    "\n",
    "# Reorder columns to match all_subunits order\n",
    "subunit_counts = subunit_counts[all_subunits]\n",
    "\n",
    "# Reset index to bring 'Accession' back as a column\n",
    "subunit_counts.reset_index(inplace=True)\n",
    "\n",
    "# Convert to a DataFrame\n",
    "cds_count = subunit_counts\n",
    "\n",
    "# Optionally, rename the columns if necessary\n",
    "cds_count.columns = ['Accession'] + all_subunits\n",
    "\n",
    "cds_bool = cds_count.copy()\n",
    "cds_bool[cds_bool.iloc[:, 1:].columns] = cds_bool.iloc[:, 1:].ge(1)\n",
    "\n",
    "cds_bool = classify_complex_types(cds_bool, combinations, all_subunits)\n",
    "\n",
    "nuo_bool = genomes_info.merge(nuo_bool)\n",
    "cds_bool = genomes_info.merge(cds_bool)\n",
    "\n",
    "summed_nuo_bool = summarize_nuo_bool(nuo_bool, nuo_bool.iloc[:, 6:-1])\n",
    "summed_cds_bool = summarize_nuo_bool(cds_bool, cds_bool.iloc[:, 5:-1])\n",
    "\n",
    "# Calculate unique counts for 'Species' where each subunit is True in 'summed_cds_bool'\n",
    "cds_species_counts = (\n",
    "    summed_cds_bool.melt(id_vars=['Species'], var_name='Subunit', value_name='Presence')\n",
    "    .query('Presence == True')\n",
    "    .groupby('Subunit')['Species']\n",
    "    .nunique()\n",
    "    .reset_index(name='NCBI CDS')\n",
    ")\n",
    "\n",
    "# Calculate unique counts for 'Species' where each subunit is True in 'summed_nuo_bool'\n",
    "nuo_species_counts = (\n",
    "    summed_nuo_bool.melt(id_vars=['Species'], var_name='Subunit', value_name='Presence')\n",
    "    .query('Presence == True')\n",
    "    .groupby('Subunit')['Species']\n",
    "    .nunique()\n",
    "    .reset_index(name='NuoHMMER')\n",
    ")\n",
    "\n",
    "# Merge the two results into a single DataFrame\n",
    "bar_plot_results = pd.merge(cds_species_counts, nuo_species_counts, on='Subunit', how='outer').fillna(0)\n",
    "\n",
    "bar_plot_results['NuoHMMER_Only'] = bar_plot_results['NuoHMMER'] - bar_plot_results['NCBI CDS']\n",
    "\n",
    "total_species = genomes_dataset['LineageTaxIDs'].nunique()\n",
    "\n",
    "category = ['NCBI CDS', 'NuoHMMER']\n",
    "species_count = bar_plot_results[['NCBI CDS', 'NuoHMMER_Only']].values\n",
    "\n",
    "# Reordering the data based on the subunits_order\n",
    "ordered_index = [all_subunits.index(subunit) for subunit in subunits_order]\n",
    "species_count_ordered = species_count[ordered_index]\n",
    "all_subunits_ordered = [all_subunits[i] for i in ordered_index]"
   ]
  },
  {
   "cell_type": "markdown",
   "id": "1cff6fdd-deae-47b0-aa3b-50ee9201447a",
   "metadata": {},
   "source": [
    "## Individual subunit Figure"
   ]
  },
  {
   "cell_type": "code",
   "execution_count": 25,
   "id": "7e508fdf-34a1-4884-9a38-c68759578911",
   "metadata": {},
   "outputs": [],
   "source": [
    "bar_plot_results.to_csv('/Users/akshayonly/Work/Submission-Data/fig_3a_data.csv', index_label=False)"
   ]
  },
  {
   "cell_type": "code",
   "execution_count": 5,
   "id": "91409ddc-c255-472e-80ef-efc0bfc2dbee",
   "metadata": {},
   "outputs": [
    {
     "data": {
      "image/png": "[encoded data removed]",
      "text/plain": [
       "<Figure size 1000x600 with 1 Axes>"
      ]
     },
     "metadata": {},
     "output_type": "display_data"
    }
   ],
   "source": [
    "# Stacked Bar Plot with defined figure size and ordered bars\n",
    "plt.figure(figsize=(10, 6))  # Defining the figure size\n",
    "\n",
    "bar_width = 0.5\n",
    "index = np.arange(len(all_subunits_ordered))\n",
    "\n",
    "# Plot each subcategory stacked on top of each other\n",
    "for i in range(species_count_ordered.shape[1]):\n",
    "    colors = [ncbi_cds_colors[subunit] if category[i] == 'NCBI CDS' else subunits_colors[subunit] for subunit in all_subunits_ordered]\n",
    "    plt.bar(index, species_count_ordered[:, i], bar_width, \n",
    "            label=category[i], \n",
    "            bottom=np.sum(species_count_ordered[:, :i], axis=1), \n",
    "            color=colors,\n",
    "            edgecolor='black')  # Adding black edges to each bar\n",
    "\n",
    "# Adjusting the x-ticks to be rotated at 45 degrees\n",
    "plt.xlabel('Subunit')\n",
    "plt.ylabel('Number of Species Identified')\n",
    "plt.title(f'Complex I Subunits identified by NuoHMMER and existing NCBI CDS annotation\\n(Total Species in Dataset = {total_species:,})')\n",
    "plt.xticks(index, all_subunits_ordered, rotation=45, ha='right')\n",
    "# plt.legend(loc='upper center', bbox_to_anchor=(0.5, -0.2), ncol=2)\n",
    "\n",
    "# Custom legend with specified colors\n",
    "from matplotlib.patches import Patch\n",
    "\n",
    "legend_colors = {'NCBI CDS': \"#d7dde4\", 'NuoHMMER': \"#959aa0\"}\n",
    "legend_handles = [Patch(color=color, label=label) for label, color in legend_colors.items()]\n",
    "\n",
    "# Move the legend to the bottom with custom colors\n",
    "plt.legend(handles=legend_handles, loc='upper center', bbox_to_anchor=(0.5, -0.2), ncol=2)\n",
    "\n",
    "plt.tight_layout()\n",
    "\n",
    "plt.savefig(f\"/Users/akshayonly/Work/04-Complex-I/Data/07-Figures/PNGs/ncbi_nuohmmer/horizontal_ncbi_nuohmmer5.png\", dpi=500)\n",
    "plt.savefig(f\"/Users/akshayonly/Work/04-Complex-I/Data/07-Figures/PDFs/horizontal_ncbi_nuohmmer5.pdf\", bbox_inches='tight', format='pdf', dpi=500)\n",
    "# Show the plot\n",
    "plt.show()"
   ]
  },
  {
   "cell_type": "code",
   "execution_count": 6,
   "id": "aff9ea62-7e95-466c-9035-c5ab21ba007a",
   "metadata": {},
   "outputs": [],
   "source": [
    "# # Stacked Bar Plot with defined figure size and ordered bars\n",
    "# plt.figure(figsize=(10, 6))  # Defining the figure size\n",
    "\n",
    "# bar_width = 0.5\n",
    "# index = np.arange(len(all_subunits_ordered))\n",
    "\n",
    "# # Plot each subcategory stacked on top of each other\n",
    "# for i in range(species_count_ordered.shape[1]):\n",
    "#     colors = [ncbi_cds_colors[subunit] if category[i] == 'NCBI CDS' else subunits_colors[subunit] for subunit in all_subunits_ordered]\n",
    "#     plt.bar(index, species_count_ordered[:, i], bar_width, \n",
    "#             bottom=np.sum(species_count_ordered[:, :i], axis=1), \n",
    "#             color=colors,\n",
    "#             edgecolor='black')  # Adding black edges to each bar\n",
    "\n",
    "# # Remove axis labels and ticks\n",
    "# plt.xlabel(\"\")\n",
    "# plt.ylabel(\"\")\n",
    "# plt.xticks([])\n",
    "# plt.yticks([])\n",
    "\n",
    "# # Remove the legend\n",
    "# plt.legend([], [], frameon=False)\n",
    "\n",
    "# # Remove the title\n",
    "# plt.title(\"\")\n",
    "\n",
    "# # Save the plot without any text\n",
    "# plt.savefig(f\"/Users/akshayonly/Work/04-Complex-I/Data/07-Figures/PNGs/ncbi_nuohmmer/horizontal_ncbi_nuohmmer_no_text.png\", dpi=500)\n",
    "# plt.savefig(f\"/Users/akshayonly/Work/04-Complex-I/Data/07-Figures/PDFs/horizontal_ncbi_nuohmmer_no_text.pdf\", bbox_inches='tight', format='pdf', dpi=500)\n",
    "\n",
    "# # Show the plot\n",
    "# plt.show()"
   ]
  },
  {
   "cell_type": "markdown",
   "id": "6858c8b3-d6ee-443d-b515-e1125bffa589",
   "metadata": {},
   "source": [
    "## Nuo cluster analysis"
   ]
  },
  {
   "cell_type": "code",
   "execution_count": 7,
   "id": "f7f4ad4d-ea0d-424d-8f47-7a7dadd9827b",
   "metadata": {},
   "outputs": [],
   "source": [
    "cds_bool_species_variation = cds_bool[['Species', 'Variation']].drop_duplicates()\n",
    "nuo_bool_species_variation = nuo_bool[['Species', 'Variation']].drop_duplicates()\n",
    "\n",
    "nuo_bool_species_variation_complete = nuo_bool_species_variation[nuo_bool_species_variation['Variation']!='Nuo-Partial']\n",
    "nuo_bool_species_variation_partial = nuo_bool_species_variation[nuo_bool_species_variation['Variation']=='Nuo-Partial']\n",
    "nuo_bool_species_variation_partial = nuo_bool_species_variation_partial[~nuo_bool_species_variation_partial['Species'].isin(nuo_bool_species_variation_complete['Species'])]\n",
    "\n",
    "cds_bool_species_variation_complete = cds_bool_species_variation[cds_bool_species_variation['Variation']!='Nuo-Partial']\n",
    "cds_bool_species_variation_partial = cds_bool_species_variation[cds_bool_species_variation['Variation']=='Nuo-Partial']\n",
    "cds_bool_species_variation_partial = cds_bool_species_variation_partial[~cds_bool_species_variation_partial['Species'].isin(cds_bool_species_variation_complete['Species'])]"
   ]
  },
  {
   "cell_type": "code",
   "execution_count": 8,
   "id": "15b727fd-bdd1-4cf6-9c1f-b26231930c3d",
   "metadata": {},
   "outputs": [
    {
     "data": {
      "text/plain": [
       "Variation\n",
       "Nuo14        2769\n",
       "Nuo13        1302\n",
       "Nuo14-EFG      88\n",
       "Nuo14-EF       63\n",
       "Nuo12          10\n",
       "Name: count, dtype: int64"
      ]
     },
     "execution_count": 8,
     "metadata": {},
     "output_type": "execute_result"
    }
   ],
   "source": [
    "nuo_bool_species_variation_complete['Variation'].value_counts()"
   ]
  },
  {
   "cell_type": "code",
   "execution_count": 9,
   "id": "b4141e64-e255-46f7-8c74-b9529256194d",
   "metadata": {},
   "outputs": [
    {
     "data": {
      "text/plain": [
       "6071"
      ]
     },
     "execution_count": 9,
     "metadata": {},
     "output_type": "execute_result"
    }
   ],
   "source": [
    "cds_bool_species_variation_partial['Species'].nunique()"
   ]
  },
  {
   "cell_type": "code",
   "execution_count": 10,
   "id": "8e4aa884-7e53-4f69-b198-b19c1c0b8fa4",
   "metadata": {},
   "outputs": [
    {
     "data": {
      "text/plain": [
       "3757"
      ]
     },
     "execution_count": 10,
     "metadata": {},
     "output_type": "execute_result"
    }
   ],
   "source": [
    "nuo_bool_species_variation_partial['Species'].nunique()"
   ]
  },
  {
   "cell_type": "code",
   "execution_count": 11,
   "id": "2007fb7b-7e33-4e43-a6dc-dc7ca258c4d2",
   "metadata": {},
   "outputs": [
    {
     "data": {
      "text/plain": [
       "546"
      ]
     },
     "execution_count": 11,
     "metadata": {},
     "output_type": "execute_result"
    }
   ],
   "source": [
    "cds_bool_species_variation_complete['Species'].nunique()"
   ]
  },
  {
   "cell_type": "code",
   "execution_count": 12,
   "id": "1d37a0f0-8b55-49e7-8429-4a3bd72220cb",
   "metadata": {},
   "outputs": [
    {
     "data": {
      "text/plain": [
       "4210"
      ]
     },
     "execution_count": 12,
     "metadata": {},
     "output_type": "execute_result"
    }
   ],
   "source": [
    "nuo_bool_species_variation_complete['Species'].nunique()"
   ]
  }
 ],
 "metadata": {
  "kernelspec": {
   "display_name": "Python 3 (ipykernel)",
   "language": "python",
   "name": "python3"
  },
  "language_info": {
   "codemirror_mode": {
    "name": "ipython",
    "version": 3
   },
   "file_extension": ".py",
   "mimetype": "text/x-python",
   "name": "python",
   "nbconvert_exporter": "python",
   "pygments_lexer": "ipython3",
   "version": "3.12.2"
  }
 },
 "nbformat": 4,
 "nbformat_minor": 5
}
