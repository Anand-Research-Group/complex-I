{
 "cells": [
  {
   "cell_type": "code",
   "execution_count": 1,
   "id": "99085116-00ec-4aff-923d-a34ca28ad48a",
   "metadata": {},
   "outputs": [],
   "source": [
    "import numpy as np\n",
    "import pandas as pd\n",
    "import seaborn as sns\n",
    "import matplotlib.pyplot as plt\n",
    "from matplotlib.ticker import ScalarFormatter\n",
    "\n",
    "from tqdm import tqdm\n",
    "\n",
    "from plot_evalue_distributions import plot_evalue_histograms, plot_evalue_kde\n",
    "from complex_i_analysis import cluster_hits_with_strand, generate_subunit_data, classify_complex_types\n",
    "\n",
    "import warnings\n",
    "warnings.filterwarnings('ignore')"
   ]
  },
  {
   "cell_type": "code",
   "execution_count": 2,
   "id": "0199da98-dd02-4c99-9b8e-659aaeeb9761",
   "metadata": {},
   "outputs": [],
   "source": [
    "colors = [\"#a5b1c2\", \"#f7b731\", \"#20bf6b\", \"#45aaf2\", \"#3867d6\", \"#a55eea\", \"#0fb9b1\", '#4b6584']\n",
    "labels = ['Nuo-Partial', 'Nuo13', 'Nuo14', 'Nuo14-EFG', 'Nuo13-EFG', 'Nuo14-EF', 'Nuo12', 'Existing Annotation']\n",
    "\n",
    "complex_colors = dict(zip(labels, colors))"
   ]
  },
  {
   "cell_type": "code",
   "execution_count": 3,
   "id": "d8849bdc-3733-464b-be22-eec7624e6ad8",
   "metadata": {},
   "outputs": [],
   "source": [
    "results = pd.read_csv(\"/Users/akshayonly/Work/04-Complex-I/Data/07-Figures/regenerate/results_unfil.csv\")"
   ]
  },
  {
   "cell_type": "code",
   "execution_count": 4,
   "id": "d79c8042-5db0-405f-a38b-ae224f10c138",
   "metadata": {},
   "outputs": [],
   "source": [
    "results['EstProtLength'] = np.int16(round(abs(results['Start'] - results['End'])/ 3))"
   ]
  },
  {
   "cell_type": "code",
   "execution_count": 5,
   "id": "45202701-a93b-41c1-9fbe-6b2083c03217",
   "metadata": {},
   "outputs": [],
   "source": [
    "genomes_dataset = pd.read_csv('/Users/akshayonly/Work/04-Complex-I/Data/02-Genomic-Records-and-Metadata/02-Genome-Metadata/genomes_dataset.csv')\n",
    "genomes_metadata = pd.read_csv('/Users/akshayonly/Work/04-Complex-I/Data/02-Genomic-Records-and-Metadata/02-Genome-Metadata/genomes_metadata.csv')\n",
    "results = pd.merge(genomes_metadata.merge(results), genomes_dataset[['GenomeFile', 'Species', 'Organism', 'Assembly Accession']], on='GenomeFile')"
   ]
  },
  {
   "cell_type": "code",
   "execution_count": 6,
   "id": "a8945f18-bcc0-4d9e-8205-b57994e402a7",
   "metadata": {},
   "outputs": [],
   "source": [
    "taxonomy = pd.read_csv('/Users/akshayonly/Work/04-Complex-I/Data/02-Genomic-Records-and-Metadata/03-Taxonomy-Metadata/taxonomy.csv')"
   ]
  },
  {
   "cell_type": "code",
   "execution_count": 7,
   "id": "31d53c3e-d704-4aba-a625-8884f86dda6e",
   "metadata": {},
   "outputs": [
    {
     "name": "stdout",
     "output_type": "stream",
     "text": [
      "<class 'pandas.core.frame.DataFrame'>\n",
      "RangeIndex: 1078643 entries, 0 to 1078642\n",
      "Data columns (total 17 columns):\n",
      " #   Column              Non-Null Count    Dtype  \n",
      "---  ------              --------------    -----  \n",
      " 0   Accession           1078643 non-null  object \n",
      " 1   Replicon            1078643 non-null  object \n",
      " 2   GenomeFile          1078643 non-null  object \n",
      " 3   SequenceLength(Mb)  1078643 non-null  float64\n",
      " 4   ProteinAccession    1078643 non-null  object \n",
      " 5   evalue              1078643 non-null  float64\n",
      " 6   BitScore            1078643 non-null  float64\n",
      " 7   Bias                1078643 non-null  float64\n",
      " 8   SequenceDesc        1078643 non-null  object \n",
      " 9   Subunit             1078643 non-null  object \n",
      " 10  Start               1078643 non-null  int64  \n",
      " 11  End                 1078643 non-null  int64  \n",
      " 12  log10evalue         1078643 non-null  float64\n",
      " 13  EstProtLength       1078643 non-null  int16  \n",
      " 14  Species             1078643 non-null  object \n",
      " 15  Organism            1078643 non-null  object \n",
      " 16  Assembly Accession  1078643 non-null  object \n",
      "dtypes: float64(5), int16(1), int64(2), object(9)\n",
      "memory usage: 133.7+ MB\n"
     ]
    }
   ],
   "source": [
    "results.info()"
   ]
  },
  {
   "cell_type": "code",
   "execution_count": 8,
   "id": "dddce3d7-f061-47b5-befd-478f238b9f6e",
   "metadata": {},
   "outputs": [
    {
     "data": {
      "text/plain": [
       "10460"
      ]
     },
     "execution_count": 8,
     "metadata": {},
     "output_type": "execute_result"
    }
   ],
   "source": [
    "results['Species'].nunique()"
   ]
  },
  {
   "cell_type": "code",
   "execution_count": 9,
   "id": "5d840f67-0cea-4880-9d5e-bc67d0459ab9",
   "metadata": {},
   "outputs": [],
   "source": [
    "hits_summaries = (\n",
    "    results.groupby('Subunit')\n",
    "    .agg(\n",
    "        Species=('Species', 'nunique'),\n",
    "        NoProteinHits=('ProteinAccession', 'nunique'),\n",
    "        NoGenomes=('GenomeFile', 'nunique')\n",
    "    )\n",
    "    .assign(AvgHits=lambda df: df['NoProteinHits'] / df['NoGenomes'])\n",
    "    .reset_index()\n",
    "    .sort_values('AvgHits', ascending=False)\n",
    ")\n"
   ]
  },
  {
   "cell_type": "code",
   "execution_count": 10,
   "id": "bdc182ab-dce7-4b7c-a605-b9b1fa2ea333",
   "metadata": {},
   "outputs": [
    {
     "data": {
      "text/html": [
       "<div>\n",
       "<style scoped>\n",
       "    .dataframe tbody tr th:only-of-type {\n",
       "        vertical-align: middle;\n",
       "    }\n",
       "\n",
       "    .dataframe tbody tr th {\n",
       "        vertical-align: top;\n",
       "    }\n",
       "\n",
       "    .dataframe thead th {\n",
       "        text-align: right;\n",
       "    }\n",
       "</style>\n",
       "<table border=\"1\" class=\"dataframe\">\n",
       "  <thead>\n",
       "    <tr style=\"text-align: right;\">\n",
       "      <th></th>\n",
       "      <th>Subunit</th>\n",
       "      <th>Species</th>\n",
       "      <th>NoProteinHits</th>\n",
       "      <th>NoGenomes</th>\n",
       "      <th>AvgHits</th>\n",
       "    </tr>\n",
       "  </thead>\n",
       "  <tbody>\n",
       "    <tr>\n",
       "      <th>8</th>\n",
       "      <td>NuoG</td>\n",
       "      <td>9631</td>\n",
       "      <td>277362</td>\n",
       "      <td>40320</td>\n",
       "      <td>6.879018</td>\n",
       "    </tr>\n",
       "    <tr>\n",
       "      <th>10</th>\n",
       "      <td>NuoI</td>\n",
       "      <td>9884</td>\n",
       "      <td>231130</td>\n",
       "      <td>38772</td>\n",
       "      <td>5.961261</td>\n",
       "    </tr>\n",
       "    <tr>\n",
       "      <th>13</th>\n",
       "      <td>NuoL</td>\n",
       "      <td>9236</td>\n",
       "      <td>77059</td>\n",
       "      <td>37879</td>\n",
       "      <td>2.034346</td>\n",
       "    </tr>\n",
       "    <tr>\n",
       "      <th>7</th>\n",
       "      <td>NuoF</td>\n",
       "      <td>7981</td>\n",
       "      <td>63132</td>\n",
       "      <td>33122</td>\n",
       "      <td>1.906044</td>\n",
       "    </tr>\n",
       "    <tr>\n",
       "      <th>5</th>\n",
       "      <td>NuoD</td>\n",
       "      <td>6565</td>\n",
       "      <td>41155</td>\n",
       "      <td>23987</td>\n",
       "      <td>1.715721</td>\n",
       "    </tr>\n",
       "    <tr>\n",
       "      <th>14</th>\n",
       "      <td>NuoM</td>\n",
       "      <td>8729</td>\n",
       "      <td>62367</td>\n",
       "      <td>36982</td>\n",
       "      <td>1.686415</td>\n",
       "    </tr>\n",
       "    <tr>\n",
       "      <th>1</th>\n",
       "      <td>NuoB</td>\n",
       "      <td>7761</td>\n",
       "      <td>52851</td>\n",
       "      <td>31669</td>\n",
       "      <td>1.668856</td>\n",
       "    </tr>\n",
       "    <tr>\n",
       "      <th>9</th>\n",
       "      <td>NuoH</td>\n",
       "      <td>7723</td>\n",
       "      <td>51020</td>\n",
       "      <td>31576</td>\n",
       "      <td>1.615784</td>\n",
       "    </tr>\n",
       "    <tr>\n",
       "      <th>4</th>\n",
       "      <td>NuoCD</td>\n",
       "      <td>1936</td>\n",
       "      <td>26062</td>\n",
       "      <td>16881</td>\n",
       "      <td>1.543866</td>\n",
       "    </tr>\n",
       "    <tr>\n",
       "      <th>15</th>\n",
       "      <td>NuoN</td>\n",
       "      <td>8408</td>\n",
       "      <td>41766</td>\n",
       "      <td>34629</td>\n",
       "      <td>1.206099</td>\n",
       "    </tr>\n",
       "    <tr>\n",
       "      <th>6</th>\n",
       "      <td>NuoE</td>\n",
       "      <td>7226</td>\n",
       "      <td>35663</td>\n",
       "      <td>30016</td>\n",
       "      <td>1.188133</td>\n",
       "    </tr>\n",
       "    <tr>\n",
       "      <th>3</th>\n",
       "      <td>NuoC</td>\n",
       "      <td>5766</td>\n",
       "      <td>16483</td>\n",
       "      <td>14621</td>\n",
       "      <td>1.127351</td>\n",
       "    </tr>\n",
       "    <tr>\n",
       "      <th>0</th>\n",
       "      <td>NuoA</td>\n",
       "      <td>7382</td>\n",
       "      <td>34278</td>\n",
       "      <td>31048</td>\n",
       "      <td>1.104032</td>\n",
       "    </tr>\n",
       "    <tr>\n",
       "      <th>12</th>\n",
       "      <td>NuoK</td>\n",
       "      <td>7642</td>\n",
       "      <td>34517</td>\n",
       "      <td>31357</td>\n",
       "      <td>1.100775</td>\n",
       "    </tr>\n",
       "    <tr>\n",
       "      <th>11</th>\n",
       "      <td>NuoJ</td>\n",
       "      <td>7480</td>\n",
       "      <td>33748</td>\n",
       "      <td>31137</td>\n",
       "      <td>1.083855</td>\n",
       "    </tr>\n",
       "    <tr>\n",
       "      <th>2</th>\n",
       "      <td>NuoBCD</td>\n",
       "      <td>38</td>\n",
       "      <td>50</td>\n",
       "      <td>50</td>\n",
       "      <td>1.000000</td>\n",
       "    </tr>\n",
       "  </tbody>\n",
       "</table>\n",
       "</div>"
      ],
      "text/plain": [
       "   Subunit  Species  NoProteinHits  NoGenomes   AvgHits\n",
       "8     NuoG     9631         277362      40320  6.879018\n",
       "10    NuoI     9884         231130      38772  5.961261\n",
       "13    NuoL     9236          77059      37879  2.034346\n",
       "7     NuoF     7981          63132      33122  1.906044\n",
       "5     NuoD     6565          41155      23987  1.715721\n",
       "14    NuoM     8729          62367      36982  1.686415\n",
       "1     NuoB     7761          52851      31669  1.668856\n",
       "9     NuoH     7723          51020      31576  1.615784\n",
       "4    NuoCD     1936          26062      16881  1.543866\n",
       "15    NuoN     8408          41766      34629  1.206099\n",
       "6     NuoE     7226          35663      30016  1.188133\n",
       "3     NuoC     5766          16483      14621  1.127351\n",
       "0     NuoA     7382          34278      31048  1.104032\n",
       "12    NuoK     7642          34517      31357  1.100775\n",
       "11    NuoJ     7480          33748      31137  1.083855\n",
       "2   NuoBCD       38             50         50  1.000000"
      ]
     },
     "execution_count": 10,
     "metadata": {},
     "output_type": "execute_result"
    }
   ],
   "source": [
    "# Total Hits\n",
    "hits_summaries"
   ]
  },
  {
   "cell_type": "code",
   "execution_count": 11,
   "id": "62325c68-801e-4972-99d7-ecb3fcf589ab",
   "metadata": {},
   "outputs": [],
   "source": [
    "# Define e-value cutoffs for filtering\n",
    "E_VALUE_CUTOFF = {\n",
    "    'NuoA': -20, 'NuoB': -58, 'NuoBCD': -200, 'NuoC': -27,\n",
    "    'NuoCD': -110, 'NuoD': -100, 'NuoE': -41, 'NuoF': -74,\n",
    "    'NuoG': -80, 'NuoH': -75, 'NuoI': -38, 'NuoJ': -30,\n",
    "    'NuoK': -24, 'NuoL': -145, 'NuoM': -95, 'NuoN': -78\n",
    "}\n",
    "\n",
    "# Define protein length thresholds\n",
    "LENGTH_THRESHOLDS = {\n",
    "    'NuoA': 245, 'NuoB': 289, 'NuoC': 311, 'NuoE': 450,\n",
    "    'NuoF': 540, 'NuoG': 966, 'NuoH': 549, 'NuoI': 301,\n",
    "    'NuoJ': 408, 'NuoM': 1087, 'NuoN': 664\n",
    "}\n",
    "\n",
    "# Function to filter results based on e-value and protein length\n",
    "def filter_results(df):\n",
    "    df = df[df['log10evalue'] <= df['Subunit'].map(E_VALUE_CUTOFF).fillna(float('inf'))]\n",
    "    df = df[df['EstProtLength'] <= df['Subunit'].map(LENGTH_THRESHOLDS).fillna(float('inf'))]\n",
    "    return df.reset_index(drop=True)\n",
    "\n",
    "# Apply filtering\n",
    "filtered_results = filter_results(results)\n",
    "\n",
    "# Sort and get unique subunits\n",
    "subunits = sorted(filtered_results['Subunit'].unique())\n",
    "\n",
    "# Apply clustering to group hits efficiently\n",
    "filtered_results = (\n",
    "    filtered_results\n",
    "    .groupby('Accession', group_keys=False)\n",
    "    .apply(cluster_hits_with_strand, intergenic_distance=250)\n",
    "    .reset_index(drop=True)\n",
    ")\n",
    "\n",
    "# Generate count and boolean tables\n",
    "nuo_count, nuo_bool = generate_subunit_data(filtered_results, subunits)\n",
    "\n",
    "# Remove duplicates from boolean table\n",
    "nuo_bool.drop_duplicates(inplace=True)\n",
    "\n",
    "# Define Complex I subunit variations\n",
    "COMPLEX_VARIANTS = {\n",
    "    'Nuo14': ['NuoA', 'NuoB', 'NuoC', 'NuoD', 'NuoE', 'NuoF', 'NuoG', 'NuoH', \n",
    "              'NuoI', 'NuoJ', 'NuoK', 'NuoL', 'NuoM', 'NuoN'],\n",
    "    'Nuo13': ['NuoA', 'NuoB', 'NuoCD', 'NuoE', 'NuoF', 'NuoG', 'NuoH', 'NuoI', \n",
    "              'NuoJ', 'NuoK', 'NuoL', 'NuoM', 'NuoN'],\n",
    "    'Nuo12': ['NuoA', 'NuoBCD', 'NuoE', 'NuoF', 'NuoG', 'NuoH', 'NuoI', 'NuoJ', \n",
    "              'NuoK', 'NuoL', 'NuoM', 'NuoN'],\n",
    "    'Nuo14-EF': ['NuoA', 'NuoB', 'NuoC', 'NuoD', 'NuoG', 'NuoH', 'NuoI', 'NuoJ', \n",
    "                 'NuoK', 'NuoL', 'NuoM', 'NuoN'],\n",
    "    'Nuo14-EFG': ['NuoA', 'NuoB', 'NuoC', 'NuoD', 'NuoH', 'NuoI', 'NuoJ', 'NuoK', \n",
    "                  'NuoL', 'NuoM', 'NuoN'],\n",
    "    'Nuo11-EF': ['NuoA', 'NuoB', 'NuoCD', 'NuoG', 'NuoH', 'NuoI', 'NuoJ', 'NuoK', \n",
    "                 'NuoL', 'NuoM', 'NuoN'],\n",
    "    'Nuo11-EFG': ['NuoA', 'NuoB', 'NuoCD', 'NuoH', 'NuoI', 'NuoJ', 'NuoK', 'NuoL', \n",
    "                  'NuoM', 'NuoN'],\n",
    "}\n",
    "\n",
    "# Classify complex types\n",
    "nuo_bool = classify_complex_types(nuo_bool, COMPLEX_VARIANTS, subunits)\n",
    "\n",
    "# Merge species and accession information\n",
    "nuo_bool = nuo_bool.merge(filtered_results[['Species', 'Accession']].drop_duplicates(), on=\"Accession\", how=\"left\")\n",
    "\n",
    "# Merge metadata while preserving unique records\n",
    "metadata_columns = ['Accession', 'Assembly Accession', 'Organism', 'Species', 'Replicon']\n",
    "nuo_bool = filtered_results[metadata_columns].merge(nuo_bool).drop_duplicates()\n",
    "nuo_count = filtered_results[metadata_columns].merge(nuo_count).drop_duplicates()"
   ]
  },
  {
   "cell_type": "code",
   "execution_count": 12,
   "id": "f96fe9f2-8783-47f5-9611-3ced513af73e",
   "metadata": {},
   "outputs": [],
   "source": [
    "filtered_hits_summaries = (\n",
    "    filtered_results.groupby('Subunit')\n",
    "    .agg(\n",
    "        Species=('Species', 'nunique'),\n",
    "        NoProteinHits=('ProteinAccession', 'nunique'),\n",
    "        NoGenomes=('GenomeFile', 'nunique')\n",
    "    )\n",
    "    .assign(AvgHits=lambda df: df['NoProteinHits'] / df['NoGenomes'])\n",
    "    .reset_index()\n",
    "    .sort_values('AvgHits', ascending=False)\n",
    ")\n"
   ]
  },
  {
   "cell_type": "code",
   "execution_count": 13,
   "id": "b90b0309-6620-45a6-9cb4-f229e45deaf7",
   "metadata": {},
   "outputs": [
    {
     "data": {
      "text/plain": [
       "Variation\n",
       "Nuo-Partial    45087\n",
       "Nuo13          13590\n",
       "Nuo14           7620\n",
       "Nuo14-EFG        116\n",
       "Nuo12             11\n",
       "Nuo14-EF           3\n",
       "Name: count, dtype: int64"
      ]
     },
     "execution_count": 13,
     "metadata": {},
     "output_type": "execute_result"
    }
   ],
   "source": [
    "nuo_bool['Variation'].value_counts()"
   ]
  },
  {
   "cell_type": "code",
   "execution_count": 14,
   "id": "91dc5b4b-938b-47b7-b348-586cb3c9c3c2",
   "metadata": {},
   "outputs": [],
   "source": [
    "# Summarize subunits and drop unnecessary columns\n",
    "nuo_bool_partial = nuo_bool[nuo_bool['Variation']=='Nuo-Partial']\n",
    "\n",
    "aggregated_nuo_bool = (\n",
    "    nuo_bool_partial.groupby(['Accession'])\n",
    "    .sum()\n",
    "    .reset_index()\n",
    "    .drop(columns=['Organism', 'Species', 'Variation', 'Cluster', 'Strand', 'Replicon', 'Assembly Accession'], errors='ignore')  # Drop columns if they exist\n",
    ")"
   ]
  },
  {
   "cell_type": "code",
   "execution_count": 15,
   "id": "3048caf7-1b5a-4d77-8ae0-07f8e21b095c",
   "metadata": {},
   "outputs": [
    {
     "name": "stdout",
     "output_type": "stream",
     "text": [
      "<class 'pandas.core.frame.DataFrame'>\n",
      "Index: 16420 entries, 0 to 49638\n",
      "Data columns (total 22 columns):\n",
      " #   Column              Non-Null Count  Dtype \n",
      "---  ------              --------------  ----- \n",
      " 0   Accession           16420 non-null  object\n",
      " 1   Assembly Accession  16420 non-null  object\n",
      " 2   Organism            16420 non-null  object\n",
      " 3   Species             16420 non-null  object\n",
      " 4   Replicon            16420 non-null  object\n",
      " 5   NuoA                16420 non-null  bool  \n",
      " 6   NuoB                16420 non-null  bool  \n",
      " 7   NuoBCD              16420 non-null  bool  \n",
      " 8   NuoC                16420 non-null  bool  \n",
      " 9   NuoCD               16420 non-null  bool  \n",
      " 10  NuoD                16420 non-null  bool  \n",
      " 11  NuoE                16420 non-null  bool  \n",
      " 12  NuoF                16420 non-null  bool  \n",
      " 13  NuoG                16420 non-null  bool  \n",
      " 14  NuoH                16420 non-null  bool  \n",
      " 15  NuoI                16420 non-null  bool  \n",
      " 16  NuoJ                16420 non-null  bool  \n",
      " 17  NuoK                16420 non-null  bool  \n",
      " 18  NuoL                16420 non-null  bool  \n",
      " 19  NuoM                16420 non-null  bool  \n",
      " 20  NuoN                16420 non-null  bool  \n",
      " 21  Variation           16420 non-null  object\n",
      "dtypes: bool(16), object(6)\n",
      "memory usage: 1.1+ MB\n"
     ]
    }
   ],
   "source": [
    "# Convert subunit counts to boolean (True if count >= 1)\n",
    "aggregated_nuo_bool[subunits] = aggregated_nuo_bool[subunits].ge(1)\n",
    "\n",
    "# Classify complex types\n",
    "aggregated_nuo_bool = classify_complex_types(aggregated_nuo_bool, COMPLEX_VARIANTS, subunits)\n",
    "\n",
    "aggregated_nuo_bool = nuo_bool[['Accession', 'Assembly Accession', 'Organism', 'Species', 'Replicon']].merge(aggregated_nuo_bool)\n",
    "aggregated_nuo_bool.drop_duplicates(inplace=True)\n",
    "\n",
    "aggregated_nuo_bool.info()"
   ]
  },
  {
   "cell_type": "code",
   "execution_count": 16,
   "id": "81f852ae-8939-4780-b425-97976c75e342",
   "metadata": {},
   "outputs": [],
   "source": [
    "plasmid_species_single_cluster = set(nuo_bool[(nuo_bool['Replicon']=='Plasmid')]['Species'])\n",
    "\n",
    "plasmid_species_multi_cluster = set(aggregated_nuo_bool[(aggregated_nuo_bool['Replicon']=='Plasmid')]['Species'])\n",
    "\n",
    "plasmid_species = plasmid_species_multi_cluster | plasmid_species_single_cluster"
   ]
  },
  {
   "cell_type": "code",
   "execution_count": 17,
   "id": "4f255e84-fdb1-41bc-8409-0c6fccdaf2eb",
   "metadata": {},
   "outputs": [
    {
     "data": {
      "text/plain": [
       "173"
      ]
     },
     "execution_count": 17,
     "metadata": {},
     "output_type": "execute_result"
    }
   ],
   "source": [
    "len(plasmid_species)"
   ]
  },
  {
   "cell_type": "code",
   "execution_count": 18,
   "id": "d2bc449e-dcd5-4dd8-b66a-6e8158a0cc74",
   "metadata": {},
   "outputs": [
    {
     "data": {
      "text/html": [
       "<div>\n",
       "<style scoped>\n",
       "    .dataframe tbody tr th:only-of-type {\n",
       "        vertical-align: middle;\n",
       "    }\n",
       "\n",
       "    .dataframe tbody tr th {\n",
       "        vertical-align: top;\n",
       "    }\n",
       "\n",
       "    .dataframe thead th {\n",
       "        text-align: right;\n",
       "    }\n",
       "</style>\n",
       "<table border=\"1\" class=\"dataframe\">\n",
       "  <thead>\n",
       "    <tr style=\"text-align: right;\">\n",
       "      <th></th>\n",
       "      <th>Species</th>\n",
       "      <th>Variation</th>\n",
       "    </tr>\n",
       "  </thead>\n",
       "  <tbody>\n",
       "    <tr>\n",
       "      <th>0</th>\n",
       "      <td>Citrobacter freundii</td>\n",
       "      <td>Nuo13</td>\n",
       "    </tr>\n",
       "    <tr>\n",
       "      <th>1</th>\n",
       "      <td>Paenibacillus cellulosilyticus</td>\n",
       "      <td>Nuo14-EFG</td>\n",
       "    </tr>\n",
       "    <tr>\n",
       "      <th>2</th>\n",
       "      <td>Ralstonia solanacearum</td>\n",
       "      <td>Nuo14</td>\n",
       "    </tr>\n",
       "    <tr>\n",
       "      <th>3</th>\n",
       "      <td>Burkholderia vietnamiensis</td>\n",
       "      <td>Nuo14</td>\n",
       "    </tr>\n",
       "    <tr>\n",
       "      <th>4</th>\n",
       "      <td>Klebsiella aerogenes</td>\n",
       "      <td>Nuo13</td>\n",
       "    </tr>\n",
       "    <tr>\n",
       "      <th>5</th>\n",
       "      <td>Legionella adelaidensis</td>\n",
       "      <td>Nuo14</td>\n",
       "    </tr>\n",
       "    <tr>\n",
       "      <th>6</th>\n",
       "      <td>Tsukamurella tyrosinosolvens</td>\n",
       "      <td>Nuo14</td>\n",
       "    </tr>\n",
       "    <tr>\n",
       "      <th>7</th>\n",
       "      <td>Mycobacterium intracellulare</td>\n",
       "      <td>Nuo14</td>\n",
       "    </tr>\n",
       "    <tr>\n",
       "      <th>8</th>\n",
       "      <td>Komagataeibacter saccharivorans</td>\n",
       "      <td>Nuo13</td>\n",
       "    </tr>\n",
       "    <tr>\n",
       "      <th>9</th>\n",
       "      <td>Acinetobacter baumannii</td>\n",
       "      <td>Nuo13</td>\n",
       "    </tr>\n",
       "    <tr>\n",
       "      <th>10</th>\n",
       "      <td>Klebsiella pneumoniae</td>\n",
       "      <td>Nuo13</td>\n",
       "    </tr>\n",
       "    <tr>\n",
       "      <th>11</th>\n",
       "      <td>Escherichia coli</td>\n",
       "      <td>Nuo13</td>\n",
       "    </tr>\n",
       "    <tr>\n",
       "      <th>12</th>\n",
       "      <td>Salmonella enterica</td>\n",
       "      <td>Nuo13</td>\n",
       "    </tr>\n",
       "  </tbody>\n",
       "</table>\n",
       "</div>"
      ],
      "text/plain": [
       "                            Species  Variation\n",
       "0              Citrobacter freundii      Nuo13\n",
       "1    Paenibacillus cellulosilyticus  Nuo14-EFG\n",
       "2            Ralstonia solanacearum      Nuo14\n",
       "3        Burkholderia vietnamiensis      Nuo14\n",
       "4              Klebsiella aerogenes      Nuo13\n",
       "5           Legionella adelaidensis      Nuo14\n",
       "6      Tsukamurella tyrosinosolvens      Nuo14\n",
       "7      Mycobacterium intracellulare      Nuo14\n",
       "8   Komagataeibacter saccharivorans      Nuo13\n",
       "9           Acinetobacter baumannii      Nuo13\n",
       "10            Klebsiella pneumoniae      Nuo13\n",
       "11                 Escherichia coli      Nuo13\n",
       "12              Salmonella enterica      Nuo13"
      ]
     },
     "execution_count": 18,
     "metadata": {},
     "output_type": "execute_result"
    }
   ],
   "source": [
    "nuo_bool[(nuo_bool['Variation']!='Nuo-Partial') & (nuo_bool['Replicon']=='Plasmid')][['Species', 'Variation']].drop_duplicates().reset_index(drop=True)"
   ]
  },
  {
   "cell_type": "code",
   "execution_count": 19,
   "id": "c13e58c1-7868-48e9-8338-f1459ab5be7c",
   "metadata": {},
   "outputs": [
    {
     "data": {
      "text/html": [
       "<div>\n",
       "<style scoped>\n",
       "    .dataframe tbody tr th:only-of-type {\n",
       "        vertical-align: middle;\n",
       "    }\n",
       "\n",
       "    .dataframe tbody tr th {\n",
       "        vertical-align: top;\n",
       "    }\n",
       "\n",
       "    .dataframe thead th {\n",
       "        text-align: right;\n",
       "    }\n",
       "</style>\n",
       "<table border=\"1\" class=\"dataframe\">\n",
       "  <thead>\n",
       "    <tr style=\"text-align: right;\">\n",
       "      <th></th>\n",
       "      <th>Species</th>\n",
       "      <th>Variation</th>\n",
       "    </tr>\n",
       "  </thead>\n",
       "  <tbody>\n",
       "    <tr>\n",
       "      <th>0</th>\n",
       "      <td>Sinorhizobium meliloti</td>\n",
       "      <td>Nuo14</td>\n",
       "    </tr>\n",
       "    <tr>\n",
       "      <th>1</th>\n",
       "      <td>Komagataeibacter saccharivorans</td>\n",
       "      <td>Nuo13</td>\n",
       "    </tr>\n",
       "    <tr>\n",
       "      <th>2</th>\n",
       "      <td>Salmonella enterica</td>\n",
       "      <td>Nuo13</td>\n",
       "    </tr>\n",
       "    <tr>\n",
       "      <th>3</th>\n",
       "      <td>Sinorhizobium sp. M103</td>\n",
       "      <td>Nuo14</td>\n",
       "    </tr>\n",
       "    <tr>\n",
       "      <th>4</th>\n",
       "      <td>Sinorhizobium sp. K101</td>\n",
       "      <td>Nuo14</td>\n",
       "    </tr>\n",
       "    <tr>\n",
       "      <th>5</th>\n",
       "      <td>Sinorhizobium sp. C101</td>\n",
       "      <td>Nuo14</td>\n",
       "    </tr>\n",
       "  </tbody>\n",
       "</table>\n",
       "</div>"
      ],
      "text/plain": [
       "                           Species Variation\n",
       "0           Sinorhizobium meliloti     Nuo14\n",
       "1  Komagataeibacter saccharivorans     Nuo13\n",
       "2              Salmonella enterica     Nuo13\n",
       "3           Sinorhizobium sp. M103     Nuo14\n",
       "4           Sinorhizobium sp. K101     Nuo14\n",
       "5           Sinorhizobium sp. C101     Nuo14"
      ]
     },
     "execution_count": 19,
     "metadata": {},
     "output_type": "execute_result"
    }
   ],
   "source": [
    "aggregated_nuo_bool[(aggregated_nuo_bool['Variation']!='Nuo-Partial') & (aggregated_nuo_bool['Replicon']=='Plasmid')][['Species', 'Variation']].drop_duplicates().reset_index(drop=True)"
   ]
  },
  {
   "cell_type": "code",
   "execution_count": 20,
   "id": "6b3a7124-c750-41b1-96cb-d234b68373ad",
   "metadata": {},
   "outputs": [],
   "source": [
    "chromosome_species_single_cluster = set(nuo_bool[(nuo_bool['Replicon']=='Chromosome')]['Species'])\n",
    "\n",
    "chromosome_species_multi_cluster = set(aggregated_nuo_bool[(aggregated_nuo_bool['Replicon']=='Chromosome')]['Species'])\n",
    "\n",
    "chromosome_species = chromosome_species_multi_cluster | chromosome_species_single_cluster"
   ]
  },
  {
   "cell_type": "code",
   "execution_count": 21,
   "id": "641330c4-c430-4386-98db-32ea9dad09ac",
   "metadata": {},
   "outputs": [
    {
     "data": {
      "text/plain": [
       "7953"
      ]
     },
     "execution_count": 21,
     "metadata": {},
     "output_type": "execute_result"
    }
   ],
   "source": [
    "len(chromosome_species_single_cluster)"
   ]
  },
  {
   "cell_type": "code",
   "execution_count": 22,
   "id": "c6defb86-5be6-4eca-97ad-754785eb70f3",
   "metadata": {},
   "outputs": [
    {
     "data": {
      "text/plain": [
       "5875"
      ]
     },
     "execution_count": 22,
     "metadata": {},
     "output_type": "execute_result"
    }
   ],
   "source": [
    "len(chromosome_species_multi_cluster)"
   ]
  },
  {
   "cell_type": "code",
   "execution_count": 23,
   "id": "599d4202-969f-4eec-96b5-bed84e6fb6b1",
   "metadata": {},
   "outputs": [
    {
     "data": {
      "text/plain": [
       "5875"
      ]
     },
     "execution_count": 23,
     "metadata": {},
     "output_type": "execute_result"
    }
   ],
   "source": [
    "len(chromosome_species_multi_cluster.intersection(chromosome_species_single_cluster))"
   ]
  },
  {
   "cell_type": "code",
   "execution_count": 24,
   "id": "90f82cdd-7da2-4ab5-8828-2253a4b342c5",
   "metadata": {},
   "outputs": [
    {
     "data": {
      "text/plain": [
       "2078"
      ]
     },
     "execution_count": 24,
     "metadata": {},
     "output_type": "execute_result"
    }
   ],
   "source": [
    "len(chromosome_species_single_cluster.difference(chromosome_species_multi_cluster))"
   ]
  },
  {
   "cell_type": "code",
   "execution_count": 25,
   "id": "ea5b8d09-e5b4-4b2d-ae12-f123fbc1ce1e",
   "metadata": {},
   "outputs": [],
   "source": [
    "undefined_species_single_cluster = set(nuo_bool[(nuo_bool['Replicon']=='Undefined')]['Species'])\n",
    "\n",
    "undefined_species_multi_cluster = set(aggregated_nuo_bool[(aggregated_nuo_bool['Replicon']=='Undefined')]['Species'])\n",
    "\n",
    "undefined_species = undefined_species_multi_cluster | undefined_species_single_cluster"
   ]
  },
  {
   "cell_type": "code",
   "execution_count": 26,
   "id": "357c8570-e009-4753-98cd-b176b9bbd4c2",
   "metadata": {},
   "outputs": [
    {
     "data": {
      "text/plain": [
       "27"
      ]
     },
     "execution_count": 26,
     "metadata": {},
     "output_type": "execute_result"
    }
   ],
   "source": [
    "len(undefined_species_single_cluster)"
   ]
  },
  {
   "cell_type": "code",
   "execution_count": 27,
   "id": "fec8a4ff-5c03-427c-95a5-14401d791208",
   "metadata": {},
   "outputs": [
    {
     "data": {
      "text/plain": [
       "17"
      ]
     },
     "execution_count": 27,
     "metadata": {},
     "output_type": "execute_result"
    }
   ],
   "source": [
    "len(undefined_species_multi_cluster)"
   ]
  },
  {
   "cell_type": "code",
   "execution_count": 28,
   "id": "a722ea22-aa8b-4e51-ad4d-55ebe62bf2a0",
   "metadata": {},
   "outputs": [
    {
     "data": {
      "text/plain": [
       "27"
      ]
     },
     "execution_count": 28,
     "metadata": {},
     "output_type": "execute_result"
    }
   ],
   "source": [
    "len(undefined_species)"
   ]
  },
  {
   "cell_type": "code",
   "execution_count": 29,
   "id": "2ef1d722-62d6-4ea2-a3c2-0af9f593b140",
   "metadata": {},
   "outputs": [
    {
     "data": {
      "text/plain": [
       "17"
      ]
     },
     "execution_count": 29,
     "metadata": {},
     "output_type": "execute_result"
    }
   ],
   "source": [
    "len(undefined_species_multi_cluster.intersection(undefined_species_single_cluster))"
   ]
  },
  {
   "cell_type": "code",
   "execution_count": 30,
   "id": "6c1c4428-07f1-44eb-864e-4c696945f57a",
   "metadata": {},
   "outputs": [
    {
     "data": {
      "text/plain": [
       "10"
      ]
     },
     "execution_count": 30,
     "metadata": {},
     "output_type": "execute_result"
    }
   ],
   "source": [
    "len(undefined_species_single_cluster.difference(undefined_species_multi_cluster))"
   ]
  },
  {
   "cell_type": "code",
   "execution_count": 32,
   "id": "a858e191-3a2f-4de3-86c8-c0c97aa7abc7",
   "metadata": {},
   "outputs": [],
   "source": [
    "# Optimized approach to processing species variations\n",
    "species_variations = pd.concat([\n",
    "    nuo_bool[['Species', 'Variation', 'Accession']],\n",
    "    aggregated_nuo_bool[['Species', 'Variation', 'Accession']]\n",
    "]).drop_duplicates().reset_index(drop=True)\n",
    "\n",
    "# Splitting into partial and complete variations\n",
    "partial = species_variations[species_variations['Variation'] == 'Nuo-Partial']\n",
    "complete = species_variations[species_variations['Variation'] != 'Nuo-Partial']\n",
    "\n",
    "# Retaining only partial variations not found in complete variations\n",
    "partial = partial.loc[~partial['Species'].isin(complete['Species'])]\n",
    "\n",
    "# Final combined dataset\n",
    "species_variations = pd.concat([complete, partial]).reset_index(drop=True)"
   ]
  },
  {
   "cell_type": "code",
   "execution_count": 33,
   "id": "0e8777b2-1cd3-402f-8787-b74f48306ebb",
   "metadata": {},
   "outputs": [],
   "source": [
    "species_variations_counts = species_variations['Species'].value_counts().reset_index()\n",
    "accession_variations_counts = species_variations['Accession'].value_counts().reset_index()"
   ]
  },
  {
   "cell_type": "code",
   "execution_count": 34,
   "id": "157c25a6-711e-4f91-b527-6ee02eb7f635",
   "metadata": {},
   "outputs": [
    {
     "data": {
      "text/plain": [
       "137"
      ]
     },
     "execution_count": 34,
     "metadata": {},
     "output_type": "execute_result"
    }
   ],
   "source": [
    "accession_variations_counts[accession_variations_counts['count']==2]['Accession'].nunique()"
   ]
  },
  {
   "cell_type": "code",
   "execution_count": 35,
   "id": "756fc7c4-889e-49df-81d1-024b9d884769",
   "metadata": {},
   "outputs": [
    {
     "data": {
      "text/plain": [
       "122"
      ]
     },
     "execution_count": 35,
     "metadata": {},
     "output_type": "execute_result"
    }
   ],
   "source": [
    "species_variations[species_variations['Accession'].isin(accession_variations_counts[accession_variations_counts['count']==2]['Accession'])]['Species'].nunique()"
   ]
  },
  {
   "cell_type": "code",
   "execution_count": 38,
   "id": "16ae481e-507b-48b6-a396-85266e1b54cb",
   "metadata": {},
   "outputs": [
    {
     "data": {
      "text/plain": [
       "Species\n",
       "Micromonospora zamorensis           12\n",
       "Micromonospora aurantiaca            8\n",
       "Gluconacetobacter diazotrophicus     4\n",
       "Micromonospora maris                 4\n",
       "Streptantibioticus cattleyicolor     4\n",
       "                                    ..\n",
       "Dyadobacter sp. NIV53                2\n",
       "Chitinophaga sp. HK235               2\n",
       "Dactylosporangium vinaceum           2\n",
       "Micromonospora craniellae            2\n",
       "uncultured Desulfobulbus sp.         2\n",
       "Name: count, Length: 122, dtype: int64"
      ]
     },
     "execution_count": 38,
     "metadata": {},
     "output_type": "execute_result"
    }
   ],
   "source": [
    "species_variations[species_variations['Accession'].isin(accession_variations_counts[accession_variations_counts['count']==2]['Accession'])]['Species'].value_counts()"
   ]
  },
  {
   "cell_type": "markdown",
   "id": "f63f2b36-6510-4c0c-88e1-c35108f1c79c",
   "metadata": {},
   "source": [
    "**NOTE**\n",
    "\n",
    "- Dehalobacter sp. DCM have complete subunits to form Complex I. EFG are present elsewhere in its genome.\n",
    "- 173 species have atleast one subunits present, 16 of which have all the subunits required to form Complex I and 01 has EFG missing Complex I.\n",
    "- 122 species have two variations within their genomes."
   ]
  },
  {
   "cell_type": "code",
   "execution_count": null,
   "id": "a01168eb-878a-49d8-a69a-030066f2ac66",
   "metadata": {},
   "outputs": [],
   "source": []
  }
 ],
 "metadata": {
  "kernelspec": {
   "display_name": "Python 3 (ipykernel)",
   "language": "python",
   "name": "python3"
  },
  "language_info": {
   "codemirror_mode": {
    "name": "ipython",
    "version": 3
   },
   "file_extension": ".py",
   "mimetype": "text/x-python",
   "name": "python",
   "nbconvert_exporter": "python",
   "pygments_lexer": "ipython3",
   "version": "3.12.2"
  }
 },
 "nbformat": 4,
 "nbformat_minor": 5
}
