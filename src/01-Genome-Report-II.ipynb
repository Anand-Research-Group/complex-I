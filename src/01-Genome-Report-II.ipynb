{
 "cells": [
  {
   "cell_type": "code",
   "execution_count": 1,
   "id": "71f7b7c9-ce1b-40a1-9c00-544f434b2ad2",
   "metadata": {},
   "outputs": [],
   "source": [
    "import os\n",
    "import re\n",
    "import pandas as pd\n",
    "from Bio import SeqIO\n",
    "from tqdm import tqdm\n",
    "\n",
    "import warnings\n",
    "warnings.filterwarnings(\"ignore\")"
   ]
  },
  {
   "cell_type": "code",
   "execution_count": 2,
   "id": "cb428167-e08e-429c-896f-e52dd3e319be",
   "metadata": {},
   "outputs": [
    {
     "name": "stderr",
     "output_type": "stream",
     "text": [
      "100%|████████████████| 42593/42593 [12:00<00:00, 59.14it/s]\n"
     ]
    }
   ],
   "source": [
    "# Define the directory containing the genomes\n",
    "genomes_dir = \"/Volumes/T7 Shield/TIFR-ARG-Projects/Sequence-Data/Genomes\"\n",
    "\n",
    "# Initialize an empty list to hold genome descriptions\n",
    "genomes_descriptions = []\n",
    "\n",
    "# Get the list of genome files in the directory and process the first 5\n",
    "genome_files = os.listdir(genomes_dir)\n",
    "\n",
    "# Iterate over each genome file\n",
    "for genome in tqdm(genome_files):\n",
    "    # Construct the corresponding proteome file name\n",
    "    proteome = genome.replace('_genomic.fna', '_cds_proteins.faa')\n",
    "    \n",
    "    # Construct the full path to the genome file\n",
    "    fasta_path = os.path.join(genomes_dir, genome)\n",
    "    \n",
    "    # Parse the genome file and extract relevant information\n",
    "    for record in SeqIO.parse(fasta_path, \"fasta\"):\n",
    "        accession = record.id\n",
    "        genome_description = record.description\n",
    "        sequence_length = len(record.seq) / 1_000_000  # Convert length to megabases\n",
    "        \n",
    "        # Determine the type of replicon based on the description\n",
    "        if 'plasmid' in genome_description.lower():\n",
    "            replicon = 'Plasmid'\n",
    "        elif 'chromosome' in genome_description.lower() or 'genome' in genome_description.lower():\n",
    "            replicon = 'Chromosome'\n",
    "        else:\n",
    "            replicon = 'Undefined'\n",
    "        \n",
    "        # Append the extracted information to the list\n",
    "        genomes_descriptions.append((accession, replicon, genome, proteome, sequence_length))\n",
    "\n",
    "# Create a DataFrame from the list of genome descriptions\n",
    "genome_data = pd.DataFrame(genomes_descriptions, columns=['Accession', 'Replicon', 'GenomeFile', 'ProteomeFile', 'SequenceLength(Mb)'])"
   ]
  },
  {
   "cell_type": "code",
   "execution_count": 4,
   "id": "3ba8766b-08fa-4df2-9122-78c9e0652a0b",
   "metadata": {},
   "outputs": [],
   "source": [
    "genome_data.to_csv('/Users/akshayonly/Work/Updated/Data/01/genome_information.csv', index=False)"
   ]
  },
  {
   "cell_type": "code",
   "execution_count": null,
   "id": "891112e9-8541-4bbe-8358-2af0f13de654",
   "metadata": {},
   "outputs": [],
   "source": []
  }
 ],
 "metadata": {
  "kernelspec": {
   "display_name": "Python 3 (ipykernel)",
   "language": "python",
   "name": "python3"
  },
  "language_info": {
   "codemirror_mode": {
    "name": "ipython",
    "version": 3
   },
   "file_extension": ".py",
   "mimetype": "text/x-python",
   "name": "python",
   "nbconvert_exporter": "python",
   "pygments_lexer": "ipython3",
   "version": "3.12.4"
  }
 },
 "nbformat": 4,
 "nbformat_minor": 5
}
