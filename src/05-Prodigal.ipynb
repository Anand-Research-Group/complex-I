{
 "cells": [
  {
   "cell_type": "code",
   "execution_count": 1,
   "id": "88396b1f-a9ff-45ea-aa4d-c4cb15b6c30a",
   "metadata": {
    "tags": []
   },
   "outputs": [],
   "source": [
    "import os\n",
    "import subprocess\n",
    "from tqdm import tqdm"
   ]
  },
  {
   "cell_type": "code",
   "execution_count": 2,
   "id": "bbbca95b-5934-4c91-8fc1-d0671fa21492",
   "metadata": {
    "tags": []
   },
   "outputs": [],
   "source": [
    "def run_prodigal(genome):\n",
    "    base_name = genome.replace('_genomic.fna', '')\n",
    "    genes_path = os.path.join(out_dir, f'{base_name}_cds_genes.genes')\n",
    "    proteome_path = os.path.join(out_dir, f'{base_name}_cds_proteins.faa')\n",
    "    genome_path = os.path.join(genomes, genome)\n",
    "\n",
    "    prodigal_command = [\"prodigal\", \"-q\", \"-i\", genome_path, \"-o\", genes_path, \"-a\", proteome_path]\n",
    "\n",
    "    subprocess.run(prodigal_command, check=True)"
   ]
  },
  {
   "cell_type": "code",
   "execution_count": 3,
   "id": "b1fda190-9db5-4723-bde3-39d39369c01b",
   "metadata": {
    "tags": []
   },
   "outputs": [],
   "source": [
    "genomes = \"/media/arglab/ARG_DRIVE_01/Genomes\"\n",
    "out_dir = \"/home/arglab/Work/Genome-Data/Proteomes\"\n",
    "\n",
    "if not os.path.exists(out_dir):\n",
    "    os.makedirs(out_dir)\n",
    "\n",
    "genome_files = [f for f in os.listdir(genomes) if f.endswith('_genomic.fna')]"
   ]
  },
  {
   "cell_type": "code",
   "execution_count": 4,
   "id": "977425d3-463e-4042-a269-4bfb515b0b23",
   "metadata": {
    "tags": []
   },
   "outputs": [
    {
     "data": {
      "text/plain": [
       "45932"
      ]
     },
     "execution_count": 4,
     "metadata": {},
     "output_type": "execute_result"
    }
   ],
   "source": [
    "len(genome_files)"
   ]
  },
  {
   "cell_type": "code",
   "execution_count": null,
   "id": "03acb8bd-fdb5-49e8-a3c9-6373fa1d3e0d",
   "metadata": {},
   "outputs": [],
   "source": [
    "/Users/akshayonly/Work/Sequence-Data/Remaining-Genomes"
   ]
  }
 ],
 "metadata": {
  "kernelspec": {
   "display_name": "Python 3 (ipykernel)",
   "language": "python",
   "name": "python3"
  },
  "language_info": {
   "codemirror_mode": {
    "name": "ipython",
    "version": 3
   },
   "file_extension": ".py",
   "mimetype": "text/x-python",
   "name": "python",
   "nbconvert_exporter": "python",
   "pygments_lexer": "ipython3",
   "version": "3.12.4"
  }
 },
 "nbformat": 4,
 "nbformat_minor": 5
}
