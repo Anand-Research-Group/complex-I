{
 "cells": [
  {
   "cell_type": "code",
   "execution_count": null,
   "id": "4fa874d5-1c79-4f62-9b23-398174aab704",
   "metadata": {},
   "outputs": [],
   "source": [
    "import os\n",
    "from tqdm import tqdm"
   ]
  },
  {
   "cell_type": "markdown",
   "id": "e661718a-6063-4a87-b8e6-88fc2cdd4c8f",
   "metadata": {},
   "source": [
    "# MSA"
   ]
  },
  {
   "cell_type": "code",
   "execution_count": null,
   "id": "d4a3ea54-acce-4730-9324-94343c947cda",
   "metadata": {
    "tags": []
   },
   "outputs": [],
   "source": [
    "seq_dir = \"/Users/akshayonly/Work/Sequence-Data/Subunits-Sequences/Clustered-Sequences\"\n",
    "out_dir = \"/Users/akshayonly/Work/Sequence-Data/Subunits-Sequences/MSAs/\"\n",
    "\n",
    "if not os.path.exists(out_dir):\n",
    "    os.makedirs(out_dir)\n",
    "    \n",
    "sequences = sorted(os.listdir(seq_dir))\n",
    "\n",
    "for seq in tqdm(sequences):\n",
    "    if seq.endswith(\".fasta\"):\n",
    "        input_file = os.path.join(seq_dir, seq)\n",
    "\n",
    "        msa = seq.replace(\".fasta\", \"_mafft_msa.fasta\")\n",
    "        output_file = os.path.join(out_dir, msa)\n",
    "\n",
    "        msa_command = f\"mafft --maxiterate 1000 --genafpair --quiet --reorder --thread 7 {input_file} > {output_file}\"\n",
    "\n",
    "        os.system(msa_command)"
   ]
  }
 ],
 "metadata": {
  "kernelspec": {
   "display_name": "Python 3 (ipykernel)",
   "language": "python",
   "name": "python3"
  },
  "language_info": {
   "codemirror_mode": {
    "name": "ipython",
    "version": 3
   },
   "file_extension": ".py",
   "mimetype": "text/x-python",
   "name": "python",
   "nbconvert_exporter": "python",
   "pygments_lexer": "ipython3",
   "version": "3.12.4"
  }
 },
 "nbformat": 4,
 "nbformat_minor": 5
}
