{
 "cells": [
  {
   "cell_type": "code",
   "execution_count": 1,
   "id": "05d752a1-9c72-44e3-b235-4b89da747c56",
   "metadata": {
    "tags": []
   },
   "outputs": [],
   "source": [
    "import os\n",
    "import shutil\n",
    "from tqdm import tqdm\n",
    "import subprocess"
   ]
  },
  {
   "cell_type": "code",
   "execution_count": 2,
   "id": "3126631d-5dc5-46c7-88cf-264b9942fde3",
   "metadata": {
    "tags": []
   },
   "outputs": [],
   "source": [
    "cds_sequences_dir = \"/Users/akshayonly/Work/Sequence-Data/Nuo-Sequences\"\n",
    "\n",
    "interpro_sequences_dir = \"/Users/akshayonly/Work/Sequence-Data/InterPro\"\n",
    "\n",
    "combined_dir = \"/Users/akshayonly/Work/Sequence-Data/Combined\"\n",
    "\n",
    "if not os.path.exists(combined_dir):\n",
    "    os.makedirs(combined_dir)\n",
    "\n",
    "seq_dir = \"/Users/akshayonly/Work/Sequence-Data/Sequences\"\n",
    "\n",
    "if not os.path.exists(seq_dir):\n",
    "    os.makedirs(seq_dir)"
   ]
  },
  {
   "cell_type": "code",
   "execution_count": 3,
   "id": "c04b4da4-f0a5-4eaa-b9d9-d62dd85a497f",
   "metadata": {
    "tags": []
   },
   "outputs": [],
   "source": [
    "subunits = ['NuoN', 'NuoM', 'NuoL', 'NuoK', 'NuoJ', 'NuoI', 'NuoH', 'NuoG', 'NuoF', \n",
    "            'NuoE', 'NuoC', 'NuoA', 'NuoB', 'NuoD', 'NuoCD', 'NuoBCD', 'NuoEF', 'NuoHI']\n",
    "\n",
    "subunits = [subunit.lower() for subunit in subunits]"
   ]
  },
  {
   "cell_type": "code",
   "execution_count": 4,
   "id": "5559ca40-e4c5-4bd7-b451-38934e91446c",
   "metadata": {
    "tags": []
   },
   "outputs": [],
   "source": [
    "interpro_sequences = [(fasta.split('_')[0].lower(), fasta) for fasta in os.listdir(interpro_sequences_dir)]\n",
    "cds_sequences = [(fasta.split('_')[0].lower(), fasta) for fasta in os.listdir(cds_sequences_dir)]"
   ]
  },
  {
   "cell_type": "code",
   "execution_count": 5,
   "id": "60d705d5-a468-4b4a-86df-246685b9b2ad",
   "metadata": {
    "tags": []
   },
   "outputs": [],
   "source": [
    "def combining_sequences(sequences, combined_dir, source_directory):\n",
    "\n",
    "    for subunit, fasta in sequences:\n",
    "            \n",
    "        destination_directory = os.path.join(combined_dir, subunit.upper())\n",
    "        if not os.path.exists(destination_directory):\n",
    "            os.makedirs(destination_directory)\n",
    "\n",
    "        source =  os.path.join(source_directory, fasta)\n",
    "        destination = os.path.join(destination_directory, fasta)\n",
    "\n",
    "        shutil.copy(source, destination)          "
   ]
  },
  {
   "cell_type": "code",
   "execution_count": 6,
   "id": "a96c85c3-cdb7-4b77-b760-c8b65506b6e0",
   "metadata": {
    "tags": []
   },
   "outputs": [],
   "source": [
    "combining_sequences(interpro_sequences, combined_dir, interpro_sequences_dir)\n",
    "combining_sequences(cds_sequences, combined_dir, cds_sequences_dir)"
   ]
  },
  {
   "cell_type": "code",
   "execution_count": 7,
   "id": "79d2f49f-a361-4ae2-9ea8-391472416b19",
   "metadata": {
    "tags": []
   },
   "outputs": [
    {
     "name": "stderr",
     "output_type": "stream",
     "text": [
      "100%|██████████| 16/16 [00:00<00:00, 268.47it/s]\n"
     ]
    }
   ],
   "source": [
    "\n",
    "for sequences in tqdm(os.listdir(combined_dir)):\n",
    "    sequences_dir = os.path.join(combined_dir, sequences)\n",
    "    fasta = f\"combined_cds_interpro_{sequences.lower()}.faa\"\n",
    "    concat_sequences = f\"{seq_dir}/{fasta}\"\n",
    "    cat_command = f\"cat {sequences_dir}/*.faa > {concat_sequences}\"\n",
    "    os.system(cat_command)"
   ]
  },
  {
   "cell_type": "code",
   "execution_count": 8,
   "id": "b6b2bf1f-4188-4cdc-9a38-c92c06dceace",
   "metadata": {
    "tags": []
   },
   "outputs": [
    {
     "name": "stderr",
     "output_type": "stream",
     "text": [
      "100%|██████████| 16/16 [00:26<00:00,  1.65s/it]\n"
     ]
    }
   ],
   "source": [
    "def run_mmseqs_commands(fasta_file, basename, output_dir, threshold=0.85):\n",
    "    # Ensure output directory exists\n",
    "    if not os.path.exists(output_dir):\n",
    "        os.makedirs(output_dir)\n",
    "\n",
    "    temp_dir = os.path.join(output_dir, \"temp\")\n",
    "    if not os.path.exists(temp_dir):\n",
    "        os.makedirs(temp_dir)\n",
    "\n",
    "    db_name = os.path.join(temp_dir, f\"{basename}_db\")\n",
    "    cluster_db_name = f\"{db_name}_clu\"\n",
    "    subset_db_name = f\"{cluster_db_name}_rep\"\n",
    "    clustering_threshold = int(100 * threshold)\n",
    "    output_fasta = os.path.join(output_dir, f\"{basename}_clustered_mmseq_{clustering_threshold}.fasta\")\n",
    "\n",
    "    # Execute MMSeqs2 commands with silenced output\n",
    "    subprocess.run([\"mmseqs\", \"createdb\", fasta_file, db_name], check=True, stdout=subprocess.DEVNULL, stderr=subprocess.DEVNULL)\n",
    "    subprocess.run([\"mmseqs\", \"cluster\", db_name, cluster_db_name, temp_dir, \"--min-seq-id\", str(threshold)], check=True, stdout=subprocess.DEVNULL, stderr=subprocess.DEVNULL)\n",
    "    subprocess.run([\"mmseqs\", \"createsubdb\", cluster_db_name, db_name, subset_db_name], check=True, stdout=subprocess.DEVNULL, stderr=subprocess.DEVNULL)\n",
    "    subprocess.run([\"mmseqs\", \"convert2fasta\", subset_db_name, output_fasta], check=True, stdout=subprocess.DEVNULL, stderr=subprocess.DEVNULL)\n",
    "\n",
    "output_dir = \"/Users/akshayonly/Work/Sequence-Data/Clustered-Sequences\"\n",
    "if not os.path.exists(output_dir):\n",
    "    os.makedirs(output_dir)\n",
    "    \n",
    "# Process each FASTA file\n",
    "for fasta_file in tqdm(sorted(os.listdir(seq_dir))):\n",
    "    if fasta_file.endswith(\".faa\"):\n",
    "        basename = fasta_file.split('.')[0]\n",
    "        fasta_file_path = os.path.join(seq_dir, fasta_file)\n",
    "        run_mmseqs_commands(fasta_file_path, basename, output_dir, threshold=0.75)"
   ]
  }
 ],
 "metadata": {
  "kernelspec": {
   "display_name": "Python 3 (ipykernel)",
   "language": "python",
   "name": "python3"
  },
  "language_info": {
   "codemirror_mode": {
    "name": "ipython",
    "version": 3
   },
   "file_extension": ".py",
   "mimetype": "text/x-python",
   "name": "python",
   "nbconvert_exporter": "python",
   "pygments_lexer": "ipython3",
   "version": "3.12.4"
  }
 },
 "nbformat": 4,
 "nbformat_minor": 5
}
