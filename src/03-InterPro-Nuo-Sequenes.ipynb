{
 "cells": [
  {
   "cell_type": "code",
   "execution_count": 1,
   "id": "d5574973-e116-4ac1-bd99-82a19cbb9bcc",
   "metadata": {
    "tags": []
   },
   "outputs": [],
   "source": [
    "import os\n",
    "import sys\n",
    "import json\n",
    "import ssl\n",
    "from time import sleep\n",
    "from urllib import request\n",
    "from urllib.error import HTTPError\n",
    "from tqdm import tqdm\n",
    "import pandas as pd"
   ]
  },
  {
   "cell_type": "code",
   "execution_count": 2,
   "id": "1a2e9686-79a7-4ab6-9289-4511b2046f4f",
   "metadata": {
    "tags": []
   },
   "outputs": [],
   "source": [
    "class InterProFetcher:\n",
    "    HEADER_SEPARATOR = \"|\"\n",
    "    LINE_LENGTH = 80\n",
    "\n",
    "    def __init__(self, interpro_accession, ncbi_taxid, subunit, organism, output_dir=\".\"):\n",
    "        self.interpro_accession = interpro_accession\n",
    "        self.ncbi_taxid = ncbi_taxid\n",
    "        self.subunit = subunit\n",
    "        self.base_url = f\"https://www.ebi.ac.uk:443/interpro/api/protein/reviewed/entry/InterPro/{interpro_accession}/taxonomy/uniprot/{ncbi_taxid}/?page_size=200&extra_fields=sequence\"\n",
    "        self.output_dir = output_dir\n",
    "        self.output_file = os.path.join(output_dir, f\"{subunit.lower()}_{organism}_{interpro_accession.lower()}_interpro.faa\")\n",
    "\n",
    "    def fetch_data(self, url):\n",
    "        \"\"\"Fetch data from the given URL, handling errors and retries.\"\"\"\n",
    "        context = ssl._create_unverified_context()\n",
    "        attempts = 0\n",
    "\n",
    "        while attempts < 4:\n",
    "            try:\n",
    "                req = request.Request(url, headers={\"Accept\": \"application/json\"})\n",
    "                with request.urlopen(req, context=context) as res:\n",
    "                    if res.status == 204:\n",
    "                        return None  # No content\n",
    "                    return json.loads(res.read().decode())\n",
    "            except HTTPError as e:\n",
    "                if e.code == 408:\n",
    "                    attempts += 1\n",
    "                    sleep(61)  # Wait and retry for timeout errors\n",
    "                else:\n",
    "                    sys.stderr.write(f\"Error fetching data: {e}\\n\")\n",
    "                    attempts = 4  # Break the loop for other HTTP errors\n",
    "            except Exception as e:\n",
    "                sys.stderr.write(f\"An error occurred: {e}\\n\")\n",
    "                break\n",
    "\n",
    "        return None\n",
    "\n",
    "    def write_fasta(self, item, file):\n",
    "        \"\"\"Writes the FASTA format for a single protein item to a file.\"\"\"\n",
    "        header_parts = [item[\"metadata\"][\"accession\"], item[\"metadata\"][\"name\"]]\n",
    "        entries = item.get(\"entry_subset\") or item.get(\"entries\")\n",
    "\n",
    "        if entries:\n",
    "            entries_header = self.HEADER_SEPARATOR.join(\n",
    "                [f'{entry[\"accession\"]}({\"|\".join([\",\".join([str(fragment[\"start\"]) + \"...\" + str(fragment[\"end\"]) for fragment in locations[\"fragments\"]]) for locations in entry[\"entry_protein_locations\"]])})' for entry in entries]\n",
    "            )\n",
    "            header_parts.append(entries_header)\n",
    "\n",
    "        file.write(\">\" + self.HEADER_SEPARATOR.join(header_parts) + \"\\n\")\n",
    "\n",
    "        seq = item[\"extra_fields\"][\"sequence\"]\n",
    "        for i in range(0, len(seq), self.LINE_LENGTH):\n",
    "            file.write(seq[i:i+self.LINE_LENGTH] + \"\\n\")\n",
    "\n",
    "    def output_list_to_file(self):\n",
    "        next_url = self.base_url\n",
    "\n",
    "        # Ensure the output directory exists\n",
    "        os.makedirs(self.output_dir, exist_ok=True)\n",
    "\n",
    "        with open(self.output_file, \"w\") as file:\n",
    "            while next_url:\n",
    "                data = self.fetch_data(next_url)\n",
    "                if not data:\n",
    "                    break  # Exit if no data is returned\n",
    "\n",
    "                for item in data[\"results\"]:\n",
    "                    self.write_fasta(item, file)\n",
    "\n",
    "                next_url = data.get(\"next\")  # Prepare the URL for the next page of results\n",
    "                sleep(1)  # Throttle requests"
   ]
  },
  {
   "cell_type": "code",
   "execution_count": 3,
   "id": "9c50da67-989f-4ec8-bb96-e0274200fbb4",
   "metadata": {
    "tags": []
   },
   "outputs": [
    {
     "name": "stdout",
     "output_type": "stream",
     "text": [
      "<class 'pandas.core.frame.DataFrame'>\n",
      "RangeIndex: 17 entries, 0 to 16\n",
      "Data columns (total 2 columns):\n",
      " #   Column              Non-Null Count  Dtype \n",
      "---  ------              --------------  ----- \n",
      " 0   Protein             17 non-null     object\n",
      " 1   InterPro Accession  17 non-null     object\n",
      "dtypes: object(2)\n",
      "memory usage: 404.0+ bytes\n"
     ]
    }
   ],
   "source": [
    "interpro = pd.read_csv(\"/Users/akshayonly/Work/Updated/Data/Misc/InterPro/nuo_interpro_classification_accessions.csv\")\n",
    "interpro.info()"
   ]
  },
  {
   "cell_type": "code",
   "execution_count": 4,
   "id": "37d34ff9-837d-4550-9982-ccd0cb457def",
   "metadata": {
    "tags": []
   },
   "outputs": [
    {
     "data": {
      "text/html": [
       "<div>\n",
       "<style scoped>\n",
       "    .dataframe tbody tr th:only-of-type {\n",
       "        vertical-align: middle;\n",
       "    }\n",
       "\n",
       "    .dataframe tbody tr th {\n",
       "        vertical-align: top;\n",
       "    }\n",
       "\n",
       "    .dataframe thead th {\n",
       "        text-align: right;\n",
       "    }\n",
       "</style>\n",
       "<table border=\"1\" class=\"dataframe\">\n",
       "  <thead>\n",
       "    <tr style=\"text-align: right;\">\n",
       "      <th></th>\n",
       "      <th>Protein</th>\n",
       "      <th>InterPro Accession</th>\n",
       "    </tr>\n",
       "  </thead>\n",
       "  <tbody>\n",
       "    <tr>\n",
       "      <th>0</th>\n",
       "      <td>NuoE</td>\n",
       "      <td>IPR002023</td>\n",
       "    </tr>\n",
       "    <tr>\n",
       "      <th>1</th>\n",
       "      <td>NuoF</td>\n",
       "      <td>IPR011537</td>\n",
       "    </tr>\n",
       "    <tr>\n",
       "      <th>2</th>\n",
       "      <td>NuoG</td>\n",
       "      <td>IPR010228</td>\n",
       "    </tr>\n",
       "    <tr>\n",
       "      <th>3</th>\n",
       "      <td>NuoB</td>\n",
       "      <td>IPR006138</td>\n",
       "    </tr>\n",
       "    <tr>\n",
       "      <th>4</th>\n",
       "      <td>NuoC</td>\n",
       "      <td>IPR010218</td>\n",
       "    </tr>\n",
       "  </tbody>\n",
       "</table>\n",
       "</div>"
      ],
      "text/plain": [
       "  Protein InterPro Accession\n",
       "0    NuoE          IPR002023\n",
       "1    NuoF          IPR011537\n",
       "2    NuoG          IPR010228\n",
       "3    NuoB          IPR006138\n",
       "4    NuoC          IPR010218"
      ]
     },
     "execution_count": 4,
     "metadata": {},
     "output_type": "execute_result"
    }
   ],
   "source": [
    "interpro.head()"
   ]
  },
  {
   "cell_type": "code",
   "execution_count": 5,
   "id": "8860e702-61ce-44d0-8426-875866bc3902",
   "metadata": {
    "tags": []
   },
   "outputs": [
    {
     "name": "stderr",
     "output_type": "stream",
     "text": [
      "17it [00:31,  1.88s/it]\n",
      "17it [05:57, 21.01s/it]\n"
     ]
    }
   ],
   "source": [
    "prok_ncbi_taxid = [('archaea', 2157), ('bacteria', 2)]\n",
    "\n",
    "output_dir = \"/Users/akshayonly/Work/Sequence-Data/InterPro\"\n",
    "\n",
    "if not os.path.exists(output_dir):\n",
    "    os.makedirs(output_dir)\n",
    "\n",
    "for organism, ncbi_taxid in prok_ncbi_taxid:\n",
    "    for i, row in tqdm(interpro.iterrows()):\n",
    "        subunit_protein = row['Protein']\n",
    "        interpro_accession = row['InterPro Accession']\n",
    "        fetcher = InterProFetcher(interpro_accession, ncbi_taxid, subunit_protein, organism, output_dir)\n",
    "        fetcher.output_list_to_file()"
   ]
  },
  {
   "cell_type": "code",
   "execution_count": 6,
   "id": "175597d2-954e-4c63-8828-fd343b8fd50a",
   "metadata": {
    "tags": []
   },
   "outputs": [
    {
     "data": {
      "text/plain": [
       "0"
      ]
     },
     "execution_count": 6,
     "metadata": {},
     "output_type": "execute_result"
    }
   ],
   "source": [
    "delete_empty_downloads = f\"find {output_dir} -type f -empty -delete\"\n",
    "os.system(delete_empty_downloads)"
   ]
  }
 ],
 "metadata": {
  "kernelspec": {
   "display_name": "Python 3 (ipykernel)",
   "language": "python",
   "name": "python3"
  },
  "language_info": {
   "codemirror_mode": {
    "name": "ipython",
    "version": 3
   },
   "file_extension": ".py",
   "mimetype": "text/x-python",
   "name": "python",
   "nbconvert_exporter": "python",
   "pygments_lexer": "ipython3",
   "version": "3.12.4"
  }
 },
 "nbformat": 4,
 "nbformat_minor": 5
}
