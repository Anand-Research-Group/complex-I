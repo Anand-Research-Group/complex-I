{
 "cells": [
  {
   "cell_type": "code",
   "execution_count": 1,
   "id": "5ee9bdff-0ec8-461a-90c9-aee679b95e53",
   "metadata": {
    "tags": []
   },
   "outputs": [],
   "source": [
    "import os\n",
    "import time\n",
    "import subprocess\n",
    "from tqdm import tqdm"
   ]
  },
  {
   "cell_type": "code",
   "execution_count": 2,
   "id": "cbe75348-e6e0-41b9-9966-c4054c77f3c4",
   "metadata": {
    "tags": []
   },
   "outputs": [],
   "source": [
    "# Define the E-value cutoff for filtering search results\n",
    "evalue_cutoff = 1e-15\n",
    "\n",
    "# Directory path where proteome files are stored\n",
    "proteome_dir = \"/Users/akshayonly/Work/Sequence-Data/Remaining-Proteomes\"\n",
    "\n",
    "# Directory path where profile HMM files are stored\n",
    "profiles_dir = \"/Users/akshayonly/Work/Sequence-Data/Subunits-Sequences/Profiles\"\n",
    "\n",
    "# Creating a subdirectory name based on the profiles directory\n",
    "# This is used to store search results\n",
    "subdir = f\"Search_{profiles_dir.split('/')[-2]}\"\n",
    "\n",
    "suffix = proteome_dir.split('/')[-1]"
   ]
  },
  {
   "cell_type": "code",
   "execution_count": 3,
   "id": "3376ba09-58d2-4d63-8667-e953a6e1b510",
   "metadata": {
    "tags": []
   },
   "outputs": [],
   "source": [
    "profiles = sorted([profile for profile in os.listdir(profiles_dir) if profile.endswith('.hmm')])\n",
    "\n",
    "proteomes = sorted([proteome for proteome in os.listdir(proteome_dir) if proteome.endswith('.faa')])"
   ]
  },
  {
   "cell_type": "code",
   "execution_count": 4,
   "id": "5d973c4f-7077-438d-a1d2-655746d968e9",
   "metadata": {
    "tags": []
   },
   "outputs": [
    {
     "name": "stderr",
     "output_type": "stream",
     "text": [
      "Searching with combined_cds_interpro_nuoa.hmm: 100%|████████████████████████████████████| 44/44 [00:00<00:00, 79.67it/s]\n",
      "Searching with combined_cds_interpro_nuob.hmm: 100%|████████████████████████████████████| 44/44 [00:00<00:00, 87.05it/s]\n",
      "Searching with combined_cds_interpro_nuobcd.hmm: 100%|██████████████████████████████████| 44/44 [00:00<00:00, 56.92it/s]\n",
      "Searching with combined_cds_interpro_nuoc.hmm: 100%|████████████████████████████████████| 44/44 [00:00<00:00, 82.16it/s]\n",
      "Searching with combined_cds_interpro_nuocd.hmm: 100%|███████████████████████████████████| 44/44 [00:00<00:00, 63.52it/s]\n",
      "Searching with combined_cds_interpro_nuod.hmm: 100%|████████████████████████████████████| 44/44 [00:00<00:00, 75.19it/s]\n",
      "Searching with combined_cds_interpro_nuoe.hmm: 100%|████████████████████████████████████| 44/44 [00:00<00:00, 83.05it/s]\n",
      "Searching with combined_cds_interpro_nuof.hmm: 100%|████████████████████████████████████| 44/44 [00:00<00:00, 69.51it/s]\n",
      "Searching with combined_cds_interpro_nuog.hmm: 100%|████████████████████████████████████| 44/44 [00:01<00:00, 38.52it/s]\n",
      "Searching with combined_cds_interpro_nuoh.hmm: 100%|████████████████████████████████████| 44/44 [00:00<00:00, 75.79it/s]\n",
      "Searching with combined_cds_interpro_nuoi.hmm: 100%|████████████████████████████████████| 44/44 [00:00<00:00, 73.84it/s]\n",
      "Searching with combined_cds_interpro_nuoj.hmm: 100%|████████████████████████████████████| 44/44 [00:00<00:00, 84.19it/s]\n",
      "Searching with combined_cds_interpro_nuok.hmm: 100%|████████████████████████████████████| 44/44 [00:00<00:00, 86.95it/s]\n",
      "Searching with combined_cds_interpro_nuol.hmm: 100%|████████████████████████████████████| 44/44 [00:00<00:00, 53.53it/s]\n",
      "Searching with combined_cds_interpro_nuom.hmm: 100%|████████████████████████████████████| 44/44 [00:00<00:00, 55.46it/s]\n",
      "Searching with combined_cds_interpro_nuon.hmm: 100%|████████████████████████████████████| 44/44 [00:00<00:00, 53.03it/s]\n"
     ]
    }
   ],
   "source": [
    "# Iterating over each profile HMM file in the profiles directory\n",
    "for profile in profiles:\n",
    "    # Constructing the full file path for the profile HMM file\n",
    "    profile_fp = os.path.join(profiles_dir, profile)\n",
    "\n",
    "    # Extracting the hmm search name from the profile file name\n",
    "    hmm_search = profile.replace('_profile.hmm', '')\n",
    "\n",
    "    # Creating a directory path to store search results for this particular HMM search\n",
    "    hmm_search_subdir = os.path.join(os.getcwd(), subdir)\n",
    "    hmm_search_dir = os.path.join(\"/Users/akshayonly/Work/Remaining-Search-Results\", f\"Remaining-{hmm_search}\")\n",
    "\n",
    "    # Creating the directory to store the results, if it doesn't already exist\n",
    "    os.makedirs(hmm_search_dir, exist_ok=True)\n",
    "    \n",
    "    profile_name = profile.replace('_clustered_mmseq_75_profile', '')\n",
    "    \n",
    "    # Iterating over each proteome file in the proteome directory\n",
    "    for proteome in tqdm(proteomes, desc=f\"Searching with {profile_name}\"):\n",
    "\n",
    "        # Constructing the full file path for the proteome file\n",
    "        proteome_fp = os.path.join(proteome_dir, proteome)\n",
    "\n",
    "        # Defining the path for the output result file\n",
    "        result = os.path.join(hmm_search_dir, proteome.replace('.faa', '.txt'))\n",
    "\n",
    "        # Constructing the HMMER command for searching the proteome with the HMM profile\n",
    "        hmmer_command = f\"hmmsearch --cpu 8 -E {evalue_cutoff} --noali --tblout {result} {profile_fp} {proteome_fp}\"\n",
    "\n",
    "        # Executing the HMMER command\n",
    "        subprocess.run(hmmer_command, shell=True, stdout=subprocess.DEVNULL, stderr=subprocess.DEVNULL)"
   ]
  },
  {
   "cell_type": "code",
   "execution_count": null,
   "id": "0d86b0b5-dbb6-40e3-b64b-31f3e1c985fc",
   "metadata": {},
   "outputs": [],
   "source": []
  }
 ],
 "metadata": {
  "kernelspec": {
   "display_name": "Python 3 (ipykernel)",
   "language": "python",
   "name": "python3"
  },
  "language_info": {
   "codemirror_mode": {
    "name": "ipython",
    "version": 3
   },
   "file_extension": ".py",
   "mimetype": "text/x-python",
   "name": "python",
   "nbconvert_exporter": "python",
   "pygments_lexer": "ipython3",
   "version": "3.12.4"
  }
 },
 "nbformat": 4,
 "nbformat_minor": 5
}
